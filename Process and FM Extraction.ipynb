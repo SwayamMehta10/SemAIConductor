{
 "cells": [
  {
   "cell_type": "markdown",
   "id": "2cb70b5c",
   "metadata": {},
   "source": [
    "# Installing Required Libraries\n"
   ]
  },
  {
   "cell_type": "code",
   "execution_count": null,
   "id": "b1be3fd3",
   "metadata": {},
   "outputs": [],
   "source": [
    "!pip install -qU gdown glob pandas numpy sentence-transformers scikit-learn"
   ]
  },
  {
   "cell_type": "code",
   "execution_count": null,
   "id": "c94699df",
   "metadata": {},
   "outputs": [],
   "source": [
    "import pandas as pd\n",
    "import numpy as np\n",
    "import os\n",
    "import json\n",
    "import gdown\n",
    "import glob\n",
    "from google.colab import drive\n",
    "from google import genai\n",
    "from sentence_transformers import SentenceTransformer\n",
    "from sklearn.metrics.pairwise import cosine_similarity"
   ]
  },
  {
   "cell_type": "markdown",
   "id": "e3dc00fd",
   "metadata": {},
   "source": [
    "# Downloading Dataset 1\n"
   ]
  },
  {
   "cell_type": "code",
   "execution_count": null,
   "id": "18820088",
   "metadata": {},
   "outputs": [],
   "source": [
    "os.environ[\"GOOGLE_API_KEY\"] = \"\"\n",
    "os.environ[\"LANGSMITH_TRACING\"] = \"true\"\n",
    "os.environ[\"LANGSMITH_API_KEY\"] = \"\""
   ]
  },
  {
   "cell_type": "markdown",
   "id": "f45a94bc",
   "metadata": {},
   "source": [
    "drive.mount('/content/drive')"
   ]
  },
  {
   "cell_type": "code",
   "execution_count": null,
   "id": "8a1762bc",
   "metadata": {},
   "outputs": [],
   "source": [
    "client = genai.Client()"
   ]
  },
  {
   "cell_type": "code",
   "execution_count": null,
   "id": "946189bf",
   "metadata": {},
   "outputs": [],
   "source": [
    "file_directory = \"https://drive.google.com/drive/folders/1ZlsE-DXR0noMDnyCt83oOhyarSuCnZvC?usp=share_link\"\n",
    "gdown.download_folder(file_directory, quiet=False, use_cookies=False)\n",
    "\n",
    "doc_paths = []\n",
    "for filepath in glob.glob(os.path.join(\"/content/Web Scraped Solder Bridging/\", \"*\")):\n",
    "    doc_paths.append(filepath)\n",
    "\n",
    "print(doc_paths)"
   ]
  },
  {
   "cell_type": "markdown",
   "id": "4d0ec17d",
   "metadata": {},
   "source": [
    "# Process and Failure Mode Extraction\n"
   ]
  },
  {
   "cell_type": "code",
   "execution_count": null,
   "id": "b8087410",
   "metadata": {},
   "outputs": [],
   "source": [
    "def get_response(filename):\n",
    "    sample_file = client.files.upload(\n",
    "        file=filename,\n",
    "    )\n",
    "\n",
    "    # This prompt instructs the model to:\n",
    "    # 1) Identify which of the 4 processes the PDF is about.\n",
    "    # 2) Summarize structure, key themes, specialized terms, repeated points.\n",
    "    # 3) List important sub-defects for that identified process.\n",
    "    # 4) Provide relevant references or citations from the PDF.\n",
    "    # 5) Return it all in JSON format.\n",
    "    modified_prompt = \"\"\"\n",
    "Task:\n",
    "Perform an in-depth analysis of the attached PDF and return only a JSON array in the exact syntax shown below.\n",
    "\n",
    "Steps to follow\n",
    "\t1.\tDetermine which of the four SMT processes the document primarily addresses:\n",
    "    • Solder Paste Printing\n",
    "    • Component Placement\n",
    "    • Reflow Soldering\n",
    "    • Rework\n",
    "\t2.\tIdentify every sub-defect that the document discusses within the context of that process.\n",
    "\n",
    "Output format\n",
    "Return a single JSON array of 2-tuples:\n",
    "json:\n",
    "[\n",
    "  (\"<Identified_Process>\", \"<Sub_Defect>\"),\n",
    "  (\"<Identified_Process>\", \"<Sub_Defect>\"),\n",
    "  ...\n",
    "]\n",
    "\n",
    "Rules for the array\n",
    "\t•\tEach <Identified_Process> must be one of the four processes listed above—spelled exactly as shown.\n",
    "\t•\tA given <Sub_Defect> may appear once and only once in the entire array. The same defect must not be assigned to multiple processes.\n",
    "\t•\tPreserve the tuple order as (Process, Sub-Defect).\n",
    "\n",
    "Important:\n",
    "• Return only the JSON array—no explanations, no extra text.\n",
    "• Ensure strict compliance with the uniqueness rule before replying.\n",
    "  \"\"\"\n",
    "\n",
    "    # Send the modified prompt to the model, along with the uploaded file\n",
    "    response = client.models.generate_content(\n",
    "        model=\"gemini-1.5-pro\", contents=[sample_file, modified_prompt]\n",
    "    )\n",
    "\n",
    "    print(response.text, \"\\n\\n\\n\\n\\n\\n\")\n",
    "\n",
    "    resp = \"[\" + response.text.split(\"[\")[1].split(\"]\")[0] + \"]\"\n",
    "    resp = resp.replace(\"(\", \"[\").replace(\")\", \"]\")\n",
    "    resp = json.loads(resp)\n",
    "\n",
    "    print(resp)\n",
    "\n",
    "    return resp"
   ]
  },
  {
   "cell_type": "code",
   "execution_count": null,
   "id": "6862b06d",
   "metadata": {},
   "outputs": [],
   "source": [
    "full_text = []\n",
    "\n",
    "for i in doc_paths:\n",
    "  response = get_response(i)\n",
    "  full_text.append(response)"
   ]
  },
  {
   "cell_type": "code",
   "execution_count": null,
   "id": "a147defd",
   "metadata": {},
   "outputs": [],
   "source": [
    "# Instead of have a seperate list of pairs for each doc, have just one list with pairs from all docs\n",
    "full_text_single_list = []\n",
    "\n",
    "for doc_list in full_text:\n",
    "    for pair in doc_list:\n",
    "        full_text_single_list.append(pair)\n",
    "\n",
    "print(f\"Number of (Process -> Failure_Mode) pairs: {len(full_text_single_list)}\")\n",
    "print(f\"Pairs: {full_text_single_list}\")"
   ]
  },
  {
   "cell_type": "markdown",
   "id": "666d5c28",
   "metadata": {},
   "source": [
    "# Removing Duplicates"
   ]
  },
  {
   "cell_type": "code",
   "execution_count": null,
   "id": "ba41cd8c",
   "metadata": {},
   "outputs": [],
   "source": [
    "model = SentenceTransformer(\"all-MiniLM-L6-v2\")"
   ]
  },
  {
   "cell_type": "code",
   "execution_count": null,
   "id": "dc4e3496",
   "metadata": {},
   "outputs": [],
   "source": [
    "def unify_pairs_cosine(pairs, threshold=0.85):\n",
    "    \"\"\"\n",
    "    Unifies near-duplicate (process, mode) pairs by embedding and comparing\n",
    "    with cosine similarity.\n",
    "\n",
    "    :param pairs: list of [process, mode] or (process, mode)\n",
    "    :param threshold: float in [0..1]. A higher threshold means a stricter match.\n",
    "\n",
    "    :return: A list of unique (process, mode) pairs.\n",
    "    \"\"\"\n",
    "    unique_pairs = []\n",
    "    unique_embeddings = []\n",
    "\n",
    "    for process, mode in pairs:\n",
    "        # Combine process and mode into a single string for embedding\n",
    "        # You could do something more sophisticated, e.g. embedding them separately.\n",
    "        combined_text = f\"{process} {mode}\"\n",
    "        vector = model.encode(combined_text)\n",
    "\n",
    "        is_duplicate = False\n",
    "        for i, existing_pair in enumerate(unique_pairs):\n",
    "            # Compare to the embedding of the existing pair\n",
    "            sim = cosine_similarity([vector], [unique_embeddings[i]])[0][0]\n",
    "            if sim >= threshold:\n",
    "                is_duplicate = True\n",
    "                break\n",
    "\n",
    "        if not is_duplicate:\n",
    "            # This pair is new enough to include\n",
    "            unique_pairs.append((process, mode))\n",
    "            unique_embeddings.append(vector)\n",
    "\n",
    "    return unique_pairs\n",
    "\n",
    "\n",
    "# Example usage:\n",
    "pairs = [\n",
    "    [\"Reflow Soldering\", \"Solder Balls\"],\n",
    "    [\n",
    "        \"reflow soldering\",\n",
    "        \"Solder Balling/Spattering\",\n",
    "    ],  # very similar => might be merged\n",
    "    [\"Reflow Soldering\", \"Bridging\"],\n",
    "    [\"Reflow Soldering\", \"Bridge\"],\n",
    "]\n",
    "\n",
    "# unique_list = unify_pairs_cosine(full_text, threshold=0.80)\n",
    "unique_list = unify_pairs_cosine(full_text_single_list, threshold=0.80)\n",
    "\n",
    "print(f\"Number of Process->Failure_mode pairs in unique_list: {len(unique_list)}\")\n",
    "print(f\"Pairs: {unique_list}\")\n",
    "# E.g. might output:\n",
    "# [('Reflow Soldering', 'Tomb-stoning'),\n",
    "#  ('Reflow Soldering', 'Bridging')]"
   ]
  },
  {
   "cell_type": "markdown",
   "id": "a662b0f6",
   "metadata": {},
   "source": [
    "# Creating the DataFrame"
   ]
  },
  {
   "cell_type": "code",
   "execution_count": null,
   "id": "13b18d0d",
   "metadata": {},
   "outputs": [],
   "source": [
    "fmea_columns = ['SMT Process', 'Failure Mode', 'Potential Effects', 'Potential Causes', 'Recommended Actions', 'Effects_Attr', 'Causes_Attr', 'Recommended_Actions_Attr']\n",
    "\n",
    "fmea_df = pd.DataFrame(unique_list, columns=fmea_columns[:2]).reindex(columns=fmea_columns, fill_value='')"
   ]
  },
  {
   "cell_type": "code",
   "execution_count": null,
   "id": "1b96979c",
   "metadata": {},
   "outputs": [],
   "source": [
    "fmea_df.head()"
   ]
  },
  {
   "cell_type": "code",
   "execution_count": null,
   "id": "f27f034c",
   "metadata": {},
   "outputs": [],
   "source": [
    "pd.to_csv(\"FMEA_with_Processes_and_FMs.csv\", index=False)"
   ]
  }
 ],
 "metadata": {
  "kernelspec": {
   "display_name": "base",
   "language": "python",
   "name": "python3"
  },
  "language_info": {
   "name": "python",
   "version": "3.12.4"
  }
 },
 "nbformat": 4,
 "nbformat_minor": 5
}
