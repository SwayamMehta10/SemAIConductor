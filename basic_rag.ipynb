{
 "cells": [
  {
   "metadata": {},
   "cell_type": "markdown",
   "source": "# Setup",
   "id": "43abf563a8190e4c"
  },
  {
   "metadata": {},
   "cell_type": "markdown",
   "source": "### Dependencies",
   "id": "27ff6b2fdd2b6507"
  },
  {
   "metadata": {},
   "cell_type": "markdown",
   "source": [
    "`\n",
    "pip install --quiet --upgrade langchain-text-splitters langchain-community langgraph beautifulsoup4 langchain-google-genai langchain-huggingface langchain-chroma jupyter ipywidgets tqdm python-dotenv\n",
    "`"
   ],
   "id": "96b7a7946daa991b"
  },
  {
   "metadata": {},
   "cell_type": "markdown",
   "source": "### LangSmith",
   "id": "b6de663b8665a126"
  },
  {
   "metadata": {
    "ExecuteTime": {
     "end_time": "2025-02-23T03:30:21.745155Z",
     "start_time": "2025-02-23T03:30:21.667732Z"
    }
   },
   "cell_type": "code",
   "source": [
    "import os\n",
    "\n",
    "from dotenv import load_dotenv\n",
    "\n",
    "load_dotenv()\n",
    "\n",
    "os.environ[\"LANGSMITH_TRACING\"] = \"true\"\n",
    "os.environ[\"LANGSMITH_API_KEY\"] = os.getenv(\"LANGSMITH_API_KEY\")"
   ],
   "id": "c2ab152b663fe445",
   "outputs": [],
   "execution_count": 1
  },
  {
   "metadata": {},
   "cell_type": "markdown",
   "source": "### Components",
   "id": "d142ca5d335eb858"
  },
  {
   "metadata": {},
   "cell_type": "markdown",
   "source": "Chat Model: Google AI",
   "id": "c224f4d7d82ab687"
  },
  {
   "metadata": {
    "ExecuteTime": {
     "end_time": "2025-02-23T03:30:21.769699Z",
     "start_time": "2025-02-23T03:30:21.747171Z"
    }
   },
   "cell_type": "code",
   "source": "os.environ[\"GOOGLE_API_KEY\"] = os.getenv(\"GOOGLE_API_KEY\")",
   "id": "de7f5b28be15f7d",
   "outputs": [],
   "execution_count": 2
  },
  {
   "metadata": {
    "ExecuteTime": {
     "end_time": "2025-02-23T03:30:35.251230Z",
     "start_time": "2025-02-23T03:30:24.495789Z"
    }
   },
   "cell_type": "code",
   "source": [
    "from langchain_google_genai import ChatGoogleGenerativeAI\n",
    "\n",
    "llm = ChatGoogleGenerativeAI(\n",
    "    model=\"gemini-1.5-pro\",\n",
    "    temperature=0,\n",
    "    max_tokens=None,\n",
    "    timeout=None,\n",
    "    max_retries=2,\n",
    "    # other params...\n",
    ")"
   ],
   "id": "35df20055aa97c3a",
   "outputs": [
    {
     "name": "stderr",
     "output_type": "stream",
     "text": [
      "D:\\PycharmProjects\\ChakraView\\.venv\\Lib\\site-packages\\tqdm\\auto.py:21: TqdmWarning: IProgress not found. Please update jupyter and ipywidgets. See https://ipywidgets.readthedocs.io/en/stable/user_install.html\n",
      "  from .autonotebook import tqdm as notebook_tqdm\n"
     ]
    }
   ],
   "execution_count": 3
  },
  {
   "metadata": {
    "ExecuteTime": {
     "end_time": "2025-02-23T03:31:14.027562Z",
     "start_time": "2025-02-23T03:30:35.277077Z"
    }
   },
   "cell_type": "code",
   "source": [
    "from langchain_huggingface import HuggingFaceEmbeddings\n",
    "\n",
    "embeddings = HuggingFaceEmbeddings(model_name=\"sentence-transformers/all-mpnet-base-v2\",\n",
    "                                   cache_folder=\"huggingface_models\")"
   ],
   "id": "d73667a16340d81b",
   "outputs": [],
   "execution_count": 4
  },
  {
   "metadata": {},
   "cell_type": "markdown",
   "source": "Vector Store: Chroma",
   "id": "cb25e30316d950de"
  },
  {
   "metadata": {
    "ExecuteTime": {
     "end_time": "2025-02-23T03:31:16.849944Z",
     "start_time": "2025-02-23T03:31:14.036486Z"
    }
   },
   "cell_type": "code",
   "source": [
    "from langchain_chroma import Chroma\n",
    "\n",
    "vector_store = Chroma(embedding_function=embeddings, persist_directory=\"chroma_db\")"
   ],
   "id": "43e60cdf42ed4999",
   "outputs": [],
   "execution_count": 5
  },
  {
   "metadata": {},
   "cell_type": "markdown",
   "source": "# Indexing",
   "id": "63119e6faa366d1c"
  },
  {
   "metadata": {},
   "cell_type": "markdown",
   "source": "### Loading Documents",
   "id": "f1632d452fb4f712"
  },
  {
   "metadata": {
    "collapsed": true,
    "ExecuteTime": {
     "end_time": "2025-02-23T03:31:17.396131Z",
     "start_time": "2025-02-23T03:31:16.859577Z"
    }
   },
   "cell_type": "code",
   "source": [
    "from langchain_community.document_loaders import TextLoader\n",
    "from pathlib import Path\n",
    "\n",
    "# Define the folder where your .txt files are stored\n",
    "txt_folder = r\"D:\\Mahabharat Text\"\n",
    "\n",
    "# Load all .txt files from the folder\n",
    "file_paths = list(Path(txt_folder).glob(\"*.txt\"))\n",
    "\n",
    "# Load documents\n",
    "docs = [TextLoader(str(file_path)).load()[0] for file_path in file_paths]\n",
    "\n",
    "# Print total character count from all files\n",
    "total_chars = sum(len(doc.page_content) for doc in docs)\n",
    "print(f\"Total characters: {total_chars}\")\n"
   ],
   "id": "initial_id",
   "outputs": [
    {
     "name": "stdout",
     "output_type": "stream",
     "text": [
      "Total characters: 14939870\n"
     ]
    }
   ],
   "execution_count": 6
  },
  {
   "metadata": {
    "ExecuteTime": {
     "end_time": "2025-02-23T03:31:17.475246Z",
     "start_time": "2025-02-23T03:31:17.468422Z"
    }
   },
   "cell_type": "code",
   "source": "print(docs[0].page_content[:1000])",
   "id": "50fcfaf513dae6e9",
   "outputs": [
    {
     "name": "stdout",
     "output_type": "stream",
     "text": [
      "\n",
      "\n",
      "\n",
      "\n",
      "The Mahabharata\n",
      "\n",
      "of\n",
      "\n",
      "Krishna-Dwaipayana Vyasa\n",
      "\n",
      "BOOK 1\n",
      "\n",
      "ADI PARVA\n",
      "\n",
      "Translated into English Prose from the Original Sanskrit Text\n",
      "\n",
      "by\n",
      "\n",
      "Kisari Mohan Ganguli\n",
      "\n",
      "[1883-1896]\n",
      "\n",
      "Scanned at sacred-texts.com, 2003. Proofed at Distributed Proofing,\n",
      "Juliet Sutherland, Project Manager. Additional proofing and formatting at\n",
      "sacred-texts.com, by J. B. Hare.\n",
      "\n",
      "\n",
      "\n",
      "TRANSLATOR'S PREFACE\n",
      "\n",
      "The object of a translator should ever be to hold the mirror upto his\n",
      "author. That being so, his chief duty is to represent so far as\n",
      "practicable the manner in which his author's ideas have been expressed,\n",
      "retaining if possible at the sacrifice of idiom and taste all the\n",
      "peculiarities of his author's imagery and of language as well. In regard\n",
      "to translations from the Sanskrit, nothing is easier than to dish up\n",
      "Hindu ideas, so as to make them agreeable to English taste. But the\n",
      "endeavour of the present translator has been to give in the following\n",
      "pages as literal a rendering as possible of the great work of Vyasa. To\n",
      "the \n"
     ]
    }
   ],
   "execution_count": 7
  },
  {
   "metadata": {},
   "cell_type": "markdown",
   "source": "### Splitting Documents",
   "id": "56a9419168db8f89"
  },
  {
   "metadata": {
    "ExecuteTime": {
     "end_time": "2025-02-23T03:31:18.208069Z",
     "start_time": "2025-02-23T03:31:17.481672Z"
    }
   },
   "cell_type": "code",
   "source": [
    "from langchain_text_splitters import RecursiveCharacterTextSplitter\n",
    "\n",
    "text_splitter = RecursiveCharacterTextSplitter(\n",
    "    chunk_size=1000,  # chunk size (characters)\n",
    "    chunk_overlap=200,  # chunk overlap (characters)\n",
    "    add_start_index=True,  # track index in original document\n",
    ")\n",
    "all_splits = text_splitter.split_documents(docs)\n",
    "\n",
    "print(f\"Split entire Mahabharat text into {len(all_splits)} sub-documents.\")"
   ],
   "id": "86a72f8fb4592a33",
   "outputs": [
    {
     "name": "stdout",
     "output_type": "stream",
     "text": [
      "Split entire Mahabharat text into 20885 sub-documents.\n"
     ]
    }
   ],
   "execution_count": 8
  },
  {
   "metadata": {},
   "cell_type": "markdown",
   "source": "### Adding metadata",
   "id": "68830ffca259b15a"
  },
  {
   "metadata": {
    "ExecuteTime": {
     "end_time": "2025-02-23T03:31:18.296285Z",
     "start_time": "2025-02-23T03:31:18.275940Z"
    }
   },
   "cell_type": "code",
   "source": [
    "total_documents = len(all_splits)\n",
    "third = total_documents // 3\n",
    "\n",
    "for i, document in enumerate(all_splits):\n",
    "    if i < third:\n",
    "        document.metadata[\"section\"] = \"beginning\"\n",
    "    elif i < 2 * third:\n",
    "        document.metadata[\"section\"] = \"middle\"\n",
    "    else:\n",
    "        document.metadata[\"section\"] = \"end\"\n",
    "\n",
    "all_splits[0].metadata"
   ],
   "id": "1d6692ad7f7d5",
   "outputs": [
    {
     "data": {
      "text/plain": [
       "{'source': 'D:\\\\Mahabharat Text\\\\maha01.txt',\n",
       " 'start_index': 4,\n",
       " 'section': 'beginning'}"
      ]
     },
     "execution_count": 9,
     "metadata": {},
     "output_type": "execute_result"
    }
   ],
   "execution_count": 9
  },
  {
   "metadata": {},
   "cell_type": "markdown",
   "source": "### Storing documents",
   "id": "3e4e92dbe9a28fc3"
  },
  {
   "metadata": {
    "ExecuteTime": {
     "end_time": "2025-02-23T05:38:28.647461Z",
     "start_time": "2025-02-23T03:31:18.316245Z"
    }
   },
   "cell_type": "code",
   "source": [
    "# Batch Insert Approach\n",
    "batch_size = 1000\n",
    "\n",
    "document_ids = []\n",
    "for i in range(0, len(all_splits), batch_size):\n",
    "    batch = all_splits[i:i + batch_size]\n",
    "    batch_ids = vector_store.add_documents(documents=batch)\n",
    "    document_ids.extend(batch_ids)\n",
    "    print(f\"Inserted {i + batch_size}/{len(all_splits)} documents\")\n",
    "\n",
    "print(document_ids[:3])"
   ],
   "id": "5a7847e8718206e7",
   "outputs": [
    {
     "name": "stdout",
     "output_type": "stream",
     "text": [
      "Inserted 1000/20885 documents\n",
      "Inserted 2000/20885 documents\n",
      "Inserted 3000/20885 documents\n",
      "Inserted 4000/20885 documents\n",
      "Inserted 5000/20885 documents\n",
      "Inserted 6000/20885 documents\n",
      "Inserted 7000/20885 documents\n",
      "Inserted 8000/20885 documents\n",
      "Inserted 9000/20885 documents\n",
      "Inserted 10000/20885 documents\n",
      "Inserted 11000/20885 documents\n",
      "Inserted 12000/20885 documents\n",
      "Inserted 13000/20885 documents\n",
      "Inserted 14000/20885 documents\n",
      "Inserted 15000/20885 documents\n",
      "Inserted 16000/20885 documents\n",
      "Inserted 17000/20885 documents\n",
      "Inserted 18000/20885 documents\n",
      "Inserted 19000/20885 documents\n",
      "Inserted 20000/20885 documents\n",
      "Inserted 21000/20885 documents\n",
      "['3b2d83b2-3e04-475a-b020-bfc5e27577e2', '47308e2c-d97f-4724-9cee-e68012e37a63', 'fc9d59e8-6e8d-48fc-a67a-12746faa4e6b']\n"
     ]
    }
   ],
   "execution_count": 10
  },
  {
   "metadata": {},
   "cell_type": "markdown",
   "source": "# Query Analysis",
   "id": "7e248213967c863e"
  },
  {
   "metadata": {
    "ExecuteTime": {
     "end_time": "2025-02-23T06:59:59.409515Z",
     "start_time": "2025-02-23T06:59:59.105221Z"
    }
   },
   "cell_type": "code",
   "source": [
    "from typing import Literal\n",
    "from pydantic import BaseModel, Field\n",
    "\n",
    "class Search(BaseModel):\n",
    "    \"\"\"Search query.\"\"\"\n",
    "    query: str = Field(description=\"Search query to run.\")\n",
    "    section: Literal[\"beginning\", \"middle\", \"end\"] = Field(description=\"Section to query.\")"
   ],
   "id": "50583a11040c6d4e",
   "outputs": [],
   "execution_count": 29
  },
  {
   "metadata": {
    "ExecuteTime": {
     "end_time": "2025-02-23T07:14:31.704558Z",
     "start_time": "2025-02-23T07:14:31.637492Z"
    }
   },
   "cell_type": "code",
   "source": [
    "from langchain.prompts import PromptTemplate\n",
    "\n",
    "custom_prompt = PromptTemplate(\n",
    "    input_variables=[\"context\", \"question\"],\n",
    "    template=\"\"\"\n",
    "You are an expert AI assistant specializing in answering complex questions using retrieved context.\n",
    "Your goal is to provide a detailed, structured, and well-formatted response with markdown elements.\n",
    "\n",
    "### Question:\n",
    "{question}\n",
    "\n",
    "### Context:\n",
    "{context}\n",
    "\n",
    "### Answer:\n",
    "- **Detailed Explanation:** Provide an in-depth response with supporting details.\n",
    "- **Bullet Points & Formatting:** Use bullet points, subheadings, and code blocks when relevant.\n",
    "- **Step-by-Step Breakdown:** If applicable, break down the answer into logical steps.\n",
    "- **Examples & Analogies:** Where helpful, give real-world examples or analogies.\n",
    "\n",
    "If the context does not contain enough information, state: \"**The provided context does not have sufficient details.**\"\n",
    "\"\"\",\n",
    ")\n",
    "\n",
    "example_messages = custom_prompt.format(\n",
    "    context=\"(context goes here)\",\n",
    "    question=\"(question goes here)\"\n",
    ")\n",
    "print(example_messages)"
   ],
   "id": "b69e90562d89a8d9",
   "outputs": [
    {
     "name": "stdout",
     "output_type": "stream",
     "text": [
      "\n",
      "You are an expert AI assistant specializing in answering complex questions using retrieved context.\n",
      "Your goal is to provide a detailed, structured, and well-formatted response with markdown elements.\n",
      "\n",
      "### Question:\n",
      "(question goes here)\n",
      "\n",
      "### Context:\n",
      "(context goes here)\n",
      "\n",
      "### Answer:\n",
      "- **Detailed Explanation:** Provide an in-depth response with supporting details.\n",
      "- **Bullet Points & Formatting:** Use bullet points, subheadings, and code blocks when relevant.\n",
      "- **Step-by-Step Breakdown:** If applicable, break down the answer into logical steps.\n",
      "- **Examples & Analogies:** Where helpful, give real-world examples or analogies.\n",
      "\n",
      "If the context does not contain enough information, state: \"**The provided context does not have sufficient details.**\"\n",
      "\n"
     ]
    }
   ],
   "execution_count": 60
  },
  {
   "metadata": {},
   "cell_type": "markdown",
   "source": "# Retrieval & Generation",
   "id": "756fac515164569"
  },
  {
   "metadata": {},
   "cell_type": "markdown",
   "source": "### LangGraph",
   "id": "1931a86dd5bb04f2"
  },
  {
   "metadata": {},
   "cell_type": "markdown",
   "source": "State",
   "id": "9d8885d99b2a9d32"
  },
  {
   "metadata": {
    "ExecuteTime": {
     "end_time": "2025-02-23T07:14:48.282157Z",
     "start_time": "2025-02-23T07:14:48.238634Z"
    }
   },
   "cell_type": "code",
   "source": [
    "from langchain_core.documents import Document\n",
    "from typing_extensions import List, TypedDict\n",
    "\n",
    "\n",
    "class State(TypedDict):\n",
    "    question: str\n",
    "    query: Search\n",
    "    context: List[Document]\n",
    "    answer: str"
   ],
   "id": "af1d56e032e72436",
   "outputs": [],
   "execution_count": 61
  },
  {
   "metadata": {},
   "cell_type": "markdown",
   "source": "Nodes",
   "id": "7304111ddedd3748"
  },
  {
   "metadata": {
    "ExecuteTime": {
     "end_time": "2025-02-23T07:14:49.624970Z",
     "start_time": "2025-02-23T07:14:49.604127Z"
    }
   },
   "cell_type": "code",
   "source": [
    "def analyze_query(state: State):\n",
    "    structured_llm = llm.with_structured_output(Search)\n",
    "    query = structured_llm.invoke(state[\"question\"])\n",
    "    return {\"query\": query}\n",
    "\n",
    "\n",
    "def retrieve(state: State):\n",
    "    query = state[\"query\"]\n",
    "    retrieved_docs = vector_store.similarity_search(\n",
    "        query.query,\n",
    "        filter={\"section\": query.section},\n",
    "    )\n",
    "    return {\"context\": retrieved_docs}\n",
    "\n",
    "\n",
    "def generate(state: State):\n",
    "    docs_content = \"\\n\\n\".join(doc.page_content for doc in state[\"context\"])\n",
    "    messages = custom_prompt.invoke({\"question\": state[\"question\"], \"context\": docs_content})\n",
    "    response = llm.invoke(messages)\n",
    "    return {\"answer\": response.content}"
   ],
   "id": "90b437d71c9a4ca5",
   "outputs": [],
   "execution_count": 62
  },
  {
   "metadata": {},
   "cell_type": "markdown",
   "source": "Control Flow",
   "id": "ee5e3e58244519b"
  },
  {
   "metadata": {
    "ExecuteTime": {
     "end_time": "2025-02-23T07:14:52.286566Z",
     "start_time": "2025-02-23T07:14:52.231500Z"
    }
   },
   "cell_type": "code",
   "source": [
    "from langgraph.graph import START, StateGraph\n",
    "\n",
    "graph_builder = StateGraph(State).add_sequence([analyze_query, retrieve, generate])\n",
    "graph_builder.add_edge(START, \"analyze_query\")\n",
    "graph = graph_builder.compile()"
   ],
   "id": "66079912a90232fd",
   "outputs": [],
   "execution_count": 63
  },
  {
   "metadata": {
    "ExecuteTime": {
     "end_time": "2025-02-23T07:14:57.026056Z",
     "start_time": "2025-02-23T07:14:56.166398Z"
    }
   },
   "cell_type": "code",
   "source": [
    "from IPython.display import Image, display\n",
    "\n",
    "display(Image(graph.get_graph().draw_mermaid_png()))"
   ],
   "id": "4f5db1af1ef50d1c",
   "outputs": [
    {
     "data": {
      "image/png": "[encoded data removed]",
      "text/plain": [
       "<IPython.core.display.Image object>"
      ]
     },
     "metadata": {},
     "output_type": "display_data"
    }
   ],
   "execution_count": 64
  },
  {
   "metadata": {},
   "cell_type": "markdown",
   "source": "# Testing",
   "id": "d94eeed45aa35ecd"
  },
  {
   "metadata": {
    "ExecuteTime": {
     "end_time": "2025-02-23T07:15:25.531062Z",
     "start_time": "2025-02-23T07:15:00.221436Z"
    }
   },
   "cell_type": "code",
   "source": [
    "result = graph.invoke({\"question\": \"How has kurukshetra been described in the Mahabharata?\"})\n",
    "\n",
    "print(f'Context: {result[\"context\"]}\\n\\n')\n",
    "print(f'Answer: {result[\"answer\"]}')"
   ],
   "id": "12dd7198f35bb9da",
   "outputs": [
    {
     "name": "stdout",
     "output_type": "stream",
     "text": [
      "Context: [Document(id='cb6f3dcb-f664-450e-862b-d4e00d50b122', metadata={'section': 'beginning', 'source': 'D:\\\\Mahabharat Text\\\\maha03.txt', 'start_index': 519004}, page_content=\"By this, one obtaineth merit that is greater than that of a Rajasuya and\\nhorse-sacrifices. The tirtha called Naimisha is productive of good on\\nearth. Pushkara is productive of good in the regions of the firmament;\\nKurukshetra, however, is productive of good in respect of all the three\\nworlds. Even the dust of Kurukshetra, carried by the wind, leadeth sinful\\nmen to a highly blessed state. They that reside in Kurukshetra, which\\nlieth to the north of the Drishadwati and the south of the Saraswati,\\nreally reside in heaven. 'I will go to Kurukshetra,' 'I will dwell in\\nKurukshetra,' he that uttereth those words even once, becometh cleansed\\nof all sins. The sacred Kurukshetra which is worshipped by Brahmarshis,\\nis regarded as the sacrificial altar of the celestials. Those mortals\\nthat dwell there, have nothing to grieve for at any time. That which\\nlieth between Tarantuka and Arantuka and the lakes of Rama and Machakruka\\nis Kurukshetra. It is also called Samantapanchaka and is said to be the\"), Document(id='d225c543-b263-4de7-b246-524a152361e3', metadata={'section': 'beginning', 'source': 'D:\\\\Mahabharat Text\\\\maha03.txt', 'start_index': 489152}, page_content='\"Pulastya said, \\'One should next proceed, O king, to the adored\\nKurukshetra at sight of which all creatures are freed from their sins. He\\nis freed from all sins who constantly sayeth, \\'I will live in\\nKurukshetra.\\' The very dust of Kurukshetra, conveyed by the wind, leadeth\\na sinful man to a blessed course (in after-life). They that dwell in\\nKurukshetra which lieth to the south of the Saraswati and the north of\\nthe Drishadwati, are said to dwell in heaven. O hero, one should reside\\nthere, O thou foremost of warriors, for a month. There, O lord of earth,\\nthe gods with Brahma at their head, the Rishis, the Siddhas, the\\nCharanas, the Gandharvas, the Apsaras, the Yakshas and the Nagas, often\\nrepair, O Bharata, to the highly sacred Brahmakshetra. O foremost of\\nwarriors, the sins of one that desireth to repair to Kurukshetra even\\nmentally are all destroyed, and he finally goeth into the region of\\nBrahma. O son of the Kuru race, by repairing to Kurukshetra in a pious'), Document(id='55d5c3ce-2038-4aff-b0fb-eff884ed6e24', metadata={'section': 'beginning', 'source': 'D:\\\\Mahabharat Text\\\\maha03.txt', 'start_index': 138150}, page_content=\"together with his brothers, Yudhishthira the just, on his part saluted\\nthem cheerfully. And the illustrious king stopped there a little,\\nbeholding the concourse of the inhabitants of Kurujangala. And the\\nillustrious bull among the Kurus felt for them as a father feeleth for\\nhis sons, and they too felt for the Kuru chief even as sons feel for\\ntheir father! And that mighty concourse, approaching the Kuru hero, stood\\naround him. And, O king, affected, with bashfulness, and with tears in\\ntheir eyes, they all exclaimed, 'Alas, O lord! O Dharma!' And they said,\\n'Thou art the chief of the Kurus, and the king of us, thy subjects! Where\\ndost thou go, O just monarch, leaving all these citizens and the\\ninhabitants of the country, like a father leaving his sons? Fie on the\\ncruel-hearted son of Dhritarashtra! Fie on the evil-minded son of Suvala!\\nFie on Karna! For, O foremost of monarchs, those wretches ever wish unto\\nthee who art firm in virtue! Having thyself established the unrivalled\"), Document(id='8bd834a7-9aaa-478d-a56d-4eea01875076', metadata={'section': 'beginning', 'source': 'D:\\\\Mahabharat Text\\\\maha03.txt', 'start_index': 519857}, page_content=\"lieth between Tarantuka and Arantuka and the lakes of Rama and Machakruka\\nis Kurukshetra. It is also called Samantapanchaka and is said to be the\\nnorthern sacrificial altar of the Grandsire.'\")]\n",
      "\n",
      "\n",
      "Answer: Kurukshetra, as described in the provided excerpts from the Mahabharata, is a highly sacred land imbued with immense spiritual significance.  It's portrayed as a place of purification, blessed by deities and revered by sages, where even the dust carries sanctifying power.\n",
      "\n",
      "* **A Place of Purification and Merit:**  Kurukshetra is described as surpassing even grand sacrifices like Rajasuya and Ashwamedha in merit. Simply stating the intention to live there, even mentally, cleanses one of sins.  The very dust carried by the wind from Kurukshetra is said to lead sinful men to a blessed afterlife.\n",
      "\n",
      "* **A Celestial Meeting Ground:** The text mentions Kurukshetra as a frequent destination for gods (led by Brahma), Rishis, Siddhas, Charanas, Gandharvas, Apsaras, Yakshas, and Nagas.  This highlights its importance as a sacred space where the earthly and divine realms intersect.  It's referred to as \"Brahmakshetra\" (Brahma's field), further emphasizing its divine connection.\n",
      "\n",
      "* **A Heavenly Abode:**  Residing in Kurukshetra is equated to residing in heaven.  The text specifically mentions its location as being south of the Saraswati river and north of the Drishadwati.\n",
      "\n",
      "* **The Grandsire's Altar:** Kurukshetra is also called Samantapanchaka and is considered the northern sacrificial altar of the Grandsire (Brahma). This designation elevates its status as a place of immense sacred power and importance in cosmic rituals.\n",
      "\n",
      "* **Geographical Markers:** The text defines Kurukshetra's boundaries as lying between Tarantuka and Arantuka and the lakes of Rama and Machakruka.\n",
      "\n",
      "* **Emotional Significance for the Kurus:** The excerpt describing Yudhishthira's arrival in Kurujangala (a term seemingly used interchangeably with Kurukshetra in this context) reveals its importance to the Kuru people.  It's their land, evoking a strong sense of belonging and paternal affection between the king and his subjects.  The lament of the people upon Yudhishthira's departure underscores the deep emotional connection they have with the land.\n",
      "\n",
      "\n",
      "The provided excerpts paint a picture of Kurukshetra not just as a physical location, but as a spiritual sanctuary, a place of immense power and purity, deeply intertwined with the lives and beliefs of the people in the Mahabharata.\n"
     ]
    }
   ],
   "execution_count": 65
  },
  {
   "metadata": {
    "ExecuteTime": {
     "end_time": "2025-02-23T07:32:33.854180Z",
     "start_time": "2025-02-23T07:31:46.442079Z"
    }
   },
   "cell_type": "code",
   "source": [
    "for step in graph.stream(\n",
    "        {\"question\": \"How does the Mahabharata end?\"}, stream_mode=\"updates\"\n",
    "):\n",
    "    print(f\"{step}\\n\\n----------------\\n\")"
   ],
   "id": "554aabcf1494992b",
   "outputs": [
    {
     "name": "stdout",
     "output_type": "stream",
     "text": [
      "{'analyze_query': {'query': Search(query='How does the Mahabharata end?', section='end')}}\n",
      "\n",
      "----------------\n",
      "\n",
      "{'retrieve': {'context': [Document(id='f1582b95-e8b4-4179-9e60-2447547ac89a', metadata={'section': 'end', 'source': 'D:\\\\Mahabharat Text\\\\maha18.txt', 'start_index': 50454}, page_content='\"I have thus, O chief of men, told everything in thy presence. He that\\nlistens with devotion to this Bharata from the beginning becomes cleansed\\nof every sin even if he be guilty of Brahmanicide or the violation of his\\npreceptors bed, or even if he be a drinker of alcohol or a robber of\\nother peoples wares, or even if he be born in the Chandala order.\\nDestroying all his sins like the maker of day destroying darkness, such a\\nman, without doubt, sports in felicity in the region of Vishnu like\\nVishnu himself.\"\\n\\nThe End of the Svargarohanika-parva\\n\\nThe Eighteen parvas of the Mahabharata are thus complete'), Document(id='f0a8d4a4-6ba5-457e-b98d-21776ba50cc2', metadata={'section': 'end', 'source': 'D:\\\\Mahabharat Text\\\\maha13.txt', 'start_index': 1369736}, page_content='this one has any end!\\' Though possessed of great energy and might,\\nGaruda, however, failed to find out the end of this illustrious one who\\nis identical with the Supreme Soul. Supporting the whole earth on his\\nhead, he resides in the nether regions. He roves through the universe as\\nSesha, filled with great joy. He is Vishnu, He is the illustrious Ananta.\\nHe is the supporter of the earth. He that is Rama is Hrishikesa. He that\\nis Achyuta is Ananta, the bearer of the earth. Both of those foremost of\\nall creatures are celestial and endued with celestial prowess. One of\\nthem is armed with the discus and the other with the plough. They deserve\\nevery honour and should be seen, I have, through my kindness for you,\\nhave thus declared to you the nature of Vasudeva. Even this, ye ascetics\\npossessed of wealth of penances, is Righteousness, I have declared all\\nthis to you so that ye may, with reverence and care, worship Krishna,\\nthat foremost one of Yadu\\'s race.\"'), Document(id='c52219fd-77d6-4116-9c30-57b056cae0c7', metadata={'section': 'end', 'source': 'D:\\\\Mahabharat Text\\\\maha18.txt', 'start_index': 29072}, page_content='The high race of the Bharatas is its topic. Hence it is called Bharata.\\nAnd because of its grave import, as also of the Bharatas being its topic,\\nit is called Mahabharata. He who is versed in interpretations of this\\ngreat treatise, becomes cleansed of every sin. Such a man lives in\\nrighteousness, wealth, and pleasure, and attains to Emancipation also, O\\nchief of Bharatas race.'), Document(id='20afed05-bfdd-4dfc-9106-571a9a064db3', metadata={'section': 'end', 'source': 'D:\\\\Mahabharat Text\\\\maha15.txt', 'start_index': 170566}, page_content='\"Yudhishthira said, \\'When such a fate overtook that high-souled monarch\\nwho was engaged in austere penances, notwithstanding the fact of his\\nhaving such kinsmen as ourselves all alive, it seems to me, O regenerate\\none, that the end of human beings is difficult to guess. Alas, who would\\nhave thought that the son of Vichitraviryya would thus be burnt to death.\\nHe had a hundred sons each endued with mighty arms and possessed of great\\nprosperity. The king himself had the strength of ten thousand elephants.\\nAlas, even he has been burnt to death in a forest-conflagration! Alas, he\\nwho had formerly been fanned with palm leaves by the fair hands of\\nbeautiful women was fanned by vultures with their wings after he had been\\nburnt to death in a forest-conflagration! He who was formerly roused from\\nsleep every morning by bands of Sutas and Magadhas had to sleep on the\\nbare ground through the acts of my sinful self. I do not grieve for the')]}}\n",
      "\n",
      "----------------\n",
      "\n",
      "{'generate': {'answer': \"The provided context describes the *benefits* of reading or listening to the Mahabharata and some reflections on mortality prompted by the death of Dhritarashtra (father of the Kauravas), but it **does not explicitly detail the ending of the epic's narrative itself.**  It focuses on the religious merit gained from engaging with the text and Yudhishthira's lamentations.\\n\\nWhile the context mentions the completion of the eighteen parvas (books), it doesn't summarize the events that conclude the main storyline.  To understand the ending of the Mahabharata, we need information beyond what's given.  A true summary of the ending would include:\\n\\n* **Yudhishthira's reign:** After the Kurukshetra war, Yudhishthira rules Hastinapura for 36 years.\\n* **Dhritarashtra, Gandhari, and Kunti's departure:**  They leave for the forest and eventually die in a forest fire.\\n* **The Pandavas' final journey (Mahaprasthanika Parva):**  The Pandavas, accompanied by a dog (who is revealed to be Dharma), embark on a journey to the Himalayas to reach heaven.  One by one, the Pandavas and Draupadi fall along the way, succumbing to their imperfections.  Only Yudhishthira, due to his righteousness, reaches the gates of heaven with the dog.\\n* **Yudhishthira's test and entry into heaven:**  Indra welcomes Yudhishthira, but the dog is denied entry.  Yudhishthira refuses to abandon the dog, demonstrating his unwavering commitment to dharma.  The dog is then revealed to be Dharma himself, testing Yudhishthira's virtue.  Yudhishthira enters heaven, but is briefly shown a glimpse of hell to understand the consequences of war.  He eventually finds his brothers and Draupadi in a celestial realm.\\n\\n\\nTherefore, the provided text discusses the *framing* of the Mahabharata and its significance, but not the actual narrative conclusion.\"}}\n",
      "\n",
      "----------------\n",
      "\n"
     ]
    }
   ],
   "execution_count": 71
  },
  {
   "metadata": {
    "ExecuteTime": {
     "end_time": "2025-02-23T07:18:24.632431Z",
     "start_time": "2025-02-23T07:18:08.669179Z"
    }
   },
   "cell_type": "code",
   "source": [
    "for message, metadata in graph.stream(\n",
    "        {\"question\": \"How was Bhishma killed in the Mahabharata?\"}, stream_mode=\"messages\"\n",
    "):\n",
    "    print(message.content, end=\"|\")"
   ],
   "id": "df009070301cdb3f",
   "outputs": [
    {
     "name": "stdout",
     "output_type": "stream",
     "text": [
      "|Bh|ishma| was not directly killed by Sikhandin, but rather by Arjuna, with Sikhandin| serving as a crucial element in his downfall.  Here's a breakdown based on the provided| text:\n",
      "\n",
      "* **Bhishma's Vow:**  The text doesn't explicitly detail the vow, but it alludes to Bhishma'|s inability to fight a woman.  Sikhandin, assigned female at birth but later identifying as male, presented a moral dilemma for Bhishma.\n",
      "\n",
      "* **|The Role of Sikhandin:**  Bhishma refused to raise his weapons against Sikhandin due to this moral conflict.  Arjuna, recognizing this, positioned himself behind Sikhandin and used him as a shield.\n",
      "\n",
      "* **|Arjuna's Attack:** With Bhishma defenseless, Arjuna showered him with arrows.  The text states, \"Agreeably to Kshatriya duties, he was slain by Dhananjaya (Arjuna) on the field of battle while engaged| in battle.\"\n",
      "\n",
      "* **Bhishma's Demise:**  Although pierced by numerous arrows, Bhishma did not die immediately.  He fell upon a bed of arrows and chose the time of his own passing, waiting for the auspicious moment.  The text describes his life-breath leaving his body and| ascending to heaven.\n",
      "\n",
      "* **Funeral Rites:** The Pandavas, including Yudhishthira, performed the funeral rites for Bhishma with great respect, signifying his revered status despite being on the opposing side.\n",
      "\n",
      "**Key Points:**\n",
      "\n",
      "* **Not Killed by Sikhandin Directly:** Sikhandin was| instrumental in Bhishma's death, but Arjuna delivered the fatal blows.\n",
      "* **Moral Dilemma:** Bhishma's vow regarding fighting women created the opening for Arjuna.\n",
      "* **Chosen Time of Death:** Bhishma, due to a boon, had control over the time of his death and chose| to pass away after the battle.\n",
      "\n",
      "\n",
      "It's important to note that the provided text focuses on the aftermath and the divine nature of Bhishma.  It doesn't explicitly detail the battle itself, but it provides enough information to understand the circumstances of his death.|"
     ]
    }
   ],
   "execution_count": 68
  }
 ],
 "metadata": {
  "kernelspec": {
   "display_name": "Python 3",
   "language": "python",
   "name": "python3"
  },
  "language_info": {
   "codemirror_mode": {
    "name": "ipython",
    "version": 2
   },
   "file_extension": ".py",
   "mimetype": "text/x-python",
   "name": "python",
   "nbconvert_exporter": "python",
   "pygments_lexer": "ipython2",
   "version": "2.7.6"
  }
 },
 "nbformat": 4,
 "nbformat_minor": 5
}
