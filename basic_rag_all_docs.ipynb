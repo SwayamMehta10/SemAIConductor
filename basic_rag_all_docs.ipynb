{
 "cells": [
  {
   "cell_type": "markdown",
   "id": "43abf563a8190e4c",
   "metadata": {},
   "source": [
    "# Setup"
   ]
  },
  {
   "cell_type": "markdown",
   "id": "27ff6b2fdd2b6507",
   "metadata": {},
   "source": [
    "### Dependencies"
   ]
  },
  {
   "cell_type": "markdown",
   "id": "96b7a7946daa991b",
   "metadata": {},
   "source": [
    "`\n",
    "pip install --quiet --upgrade langchain-text-splitters langchain-community langgraph beautifulsoup4 langchain-google-genai langchain-huggingface langchain-chroma jupyter ipywidgets tqdm python-dotenv\n",
    "`"
   ]
  },
  {
   "cell_type": "markdown",
   "id": "b6de663b8665a126",
   "metadata": {},
   "source": [
    "### LangSmith"
   ]
  },
  {
   "cell_type": "code",
   "execution_count": 2,
   "id": "c2ab152b663fe445",
   "metadata": {
    "ExecuteTime": {
     "end_time": "2025-02-23T03:30:21.745155Z",
     "start_time": "2025-02-23T03:30:21.667732Z"
    }
   },
   "outputs": [],
   "source": [
    "import os\n",
    "\n",
    "from dotenv import load_dotenv\n",
    "\n",
    "load_dotenv()\n",
    "\n",
    "os.environ[\"LANGSMITH_TRACING\"] = \"true\"\n",
    "os.environ[\"LANGSMITH_API_KEY\"] = os.getenv(\"LANGSMITH_API_KEY\")"
   ]
  },
  {
   "cell_type": "markdown",
   "id": "d142ca5d335eb858",
   "metadata": {},
   "source": [
    "### Components"
   ]
  },
  {
   "cell_type": "markdown",
   "id": "c224f4d7d82ab687",
   "metadata": {},
   "source": [
    "Chat Model: Google AI"
   ]
  },
  {
   "cell_type": "code",
   "execution_count": 3,
   "id": "de7f5b28be15f7d",
   "metadata": {
    "ExecuteTime": {
     "end_time": "2025-02-23T03:30:21.769699Z",
     "start_time": "2025-02-23T03:30:21.747171Z"
    }
   },
   "outputs": [],
   "source": [
    "os.environ[\"GOOGLE_API_KEY\"] = os.getenv(\"GOOGLE_API_KEY\")"
   ]
  },
  {
   "cell_type": "code",
   "execution_count": 4,
   "id": "35df20055aa97c3a",
   "metadata": {
    "ExecuteTime": {
     "end_time": "2025-02-23T03:30:35.251230Z",
     "start_time": "2025-02-23T03:30:24.495789Z"
    }
   },
   "outputs": [],
   "source": [
    "from langchain_google_genai import ChatGoogleGenerativeAI\n",
    "\n",
    "llm = ChatGoogleGenerativeAI(\n",
    "    model=\"gemini-1.5-pro\",\n",
    "    temperature=0,\n",
    "    max_tokens=None,\n",
    "    timeout=None,\n",
    "    max_retries=2,\n",
    "    # other params...\n",
    ")"
   ]
  },
  {
   "cell_type": "code",
   "execution_count": 5,
   "id": "d73667a16340d81b",
   "metadata": {
    "ExecuteTime": {
     "end_time": "2025-02-23T03:31:14.027562Z",
     "start_time": "2025-02-23T03:30:35.277077Z"
    }
   },
   "outputs": [],
   "source": [
    "from langchain_huggingface import HuggingFaceEmbeddings\n",
    "\n",
    "embeddings = HuggingFaceEmbeddings(model_name=\"sentence-transformers/all-mpnet-base-v2\",\n",
    "                                   cache_folder=\"huggingface_models\")"
   ]
  },
  {
   "cell_type": "markdown",
   "id": "cb25e30316d950de",
   "metadata": {},
   "source": [
    "Vector Store: Chroma"
   ]
  },
  {
   "cell_type": "code",
   "execution_count": 6,
   "id": "43e60cdf42ed4999",
   "metadata": {
    "ExecuteTime": {
     "end_time": "2025-02-23T03:31:16.849944Z",
     "start_time": "2025-02-23T03:31:14.036486Z"
    }
   },
   "outputs": [],
   "source": [
    "from langchain_chroma import Chroma\n",
    "\n",
    "vector_store = Chroma(embedding_function=embeddings, persist_directory=\"chroma_db\")"
   ]
  },
  {
   "cell_type": "markdown",
   "id": "63119e6faa366d1c",
   "metadata": {},
   "source": [
    "# Indexing"
   ]
  },
  {
   "cell_type": "markdown",
   "id": "f1632d452fb4f712",
   "metadata": {},
   "source": [
    "### Loading Documents"
   ]
  },
  {
   "cell_type": "code",
   "execution_count": 7,
   "id": "initial_id",
   "metadata": {
    "ExecuteTime": {
     "end_time": "2025-02-23T03:31:17.396131Z",
     "start_time": "2025-02-23T03:31:16.859577Z"
    }
   },
   "outputs": [],
   "source": [
    "# from langchain_community.document_loaders import TextLoader\n",
    "# from pathlib import Path\n",
    "\n",
    "# # Define the folder where your .txt files are stored\n",
    "# txt_folder = r\"D:\\Mahabharat Text\"\n",
    "\n",
    "# # Load all .txt files from the folder\n",
    "# file_paths = list(Path(txt_folder).glob(\"*.txt\"))\n",
    "\n",
    "# # Load documents\n",
    "# docs = [TextLoader(str(file_path)).load()[0] for file_path in file_paths]\n",
    "\n",
    "# # Print total character count from all files\n",
    "# total_chars = sum(len(doc.page_content) for doc in docs)\n",
    "# print(f\"Total characters: {total_chars}\")\n"
   ]
  },
  {
   "cell_type": "code",
   "execution_count": 8,
   "id": "b20f00e8-517d-4d8c-a620-73b4ff8c369d",
   "metadata": {},
   "outputs": [
    {
     "name": "stderr",
     "output_type": "stream",
     "text": [
      "C:\\Users\\Ryan\\anaconda3\\envs\\nlp_proj_env\\Lib\\site-packages\\pypdf\\_crypt_providers\\_cryptography.py:32: CryptographyDeprecationWarning: ARC4 has been moved to cryptography.hazmat.decrepit.ciphers.algorithms.ARC4 and will be removed from cryptography.hazmat.primitives.ciphers.algorithms in 48.0.0.\n",
      "  from cryptography.hazmat.primitives.ciphers.algorithms import AES, ARC4\n"
     ]
    },
    {
     "name": "stdout",
     "output_type": "stream",
     "text": [
      "Total characters: 1020842\n"
     ]
    }
   ],
   "source": [
    "from langchain_community.document_loaders import PyPDFLoader\n",
    "from pathlib import Path\n",
    "\n",
    "# Define the folder where your PDF files are stored\n",
    "pdf_folder = r\"./Solder_Bridging_Docs\"\n",
    "\n",
    "# Load all .pdf files from the folder\n",
    "file_paths = list(Path(pdf_folder).glob(\"*.pdf\"))\n",
    "# file_paths = [Path(r\"./Solder_Bridging_Docs/4.pdf\")]\n",
    "\n",
    "# Load documents\n",
    "docs = []\n",
    "for file_path in file_paths:\n",
    "    loader = PyPDFLoader(str(file_path))\n",
    "    pages = loader.load()\n",
    "    docs.extend(pages)  # Append all pages of the PDF\n",
    "\n",
    "# Print total character count from all files\n",
    "total_chars = sum(len(doc.page_content) for doc in docs)\n",
    "print(f\"Total characters: {total_chars}\")"
   ]
  },
  {
   "cell_type": "code",
   "execution_count": 9,
   "id": "50fcfaf513dae6e9",
   "metadata": {
    "ExecuteTime": {
     "end_time": "2025-02-23T03:31:17.475246Z",
     "start_time": "2025-02-23T03:31:17.468422Z"
    }
   },
   "outputs": [
    {
     "name": "stdout",
     "output_type": "stream",
     "text": [
      "aimsolder.com 1\n",
      "SMT TROUBLE \n",
      "SHOOTING GUIDE\n",
      "\n"
     ]
    }
   ],
   "source": [
    "print(docs[0].page_content[:1000])"
   ]
  },
  {
   "cell_type": "markdown",
   "id": "56a9419168db8f89",
   "metadata": {},
   "source": [
    "### Splitting Documents"
   ]
  },
  {
   "cell_type": "code",
   "execution_count": 10,
   "id": "86a72f8fb4592a33",
   "metadata": {
    "ExecuteTime": {
     "end_time": "2025-02-23T03:31:18.208069Z",
     "start_time": "2025-02-23T03:31:17.481672Z"
    }
   },
   "outputs": [
    {
     "name": "stdout",
     "output_type": "stream",
     "text": [
      "Split all the solder bridging docs text into 1380 sub-documents.\n"
     ]
    }
   ],
   "source": [
    "from langchain_text_splitters import RecursiveCharacterTextSplitter\n",
    "\n",
    "text_splitter = RecursiveCharacterTextSplitter(\n",
    "    chunk_size=1000,  # chunk size (characters)\n",
    "    chunk_overlap=200,  # chunk overlap (characters)\n",
    "    add_start_index=True,  # track index in original document\n",
    ")\n",
    "all_splits = text_splitter.split_documents(docs)\n",
    "\n",
    "print(f\"Split all the solder bridging docs text into {len(all_splits)} sub-documents.\")"
   ]
  },
  {
   "cell_type": "markdown",
   "id": "68830ffca259b15a",
   "metadata": {},
   "source": [
    "### Adding metadata"
   ]
  },
  {
   "cell_type": "code",
   "execution_count": 11,
   "id": "1d6692ad7f7d5",
   "metadata": {
    "ExecuteTime": {
     "end_time": "2025-02-23T03:31:18.296285Z",
     "start_time": "2025-02-23T03:31:18.275940Z"
    }
   },
   "outputs": [
    {
     "data": {
      "text/plain": [
       "{'source': 'Solder_Bridging_Docs\\\\1.pdf',\n",
       " 'page': 0,\n",
       " 'start_index': 0,\n",
       " 'section': 'beginning'}"
      ]
     },
     "execution_count": 11,
     "metadata": {},
     "output_type": "execute_result"
    }
   ],
   "source": [
    "total_documents = len(all_splits)\n",
    "third = total_documents // 3\n",
    "\n",
    "for i, document in enumerate(all_splits):\n",
    "    if i < third:\n",
    "        document.metadata[\"section\"] = \"beginning\"\n",
    "    elif i < 2 * third:\n",
    "        document.metadata[\"section\"] = \"middle\"\n",
    "    else:\n",
    "        document.metadata[\"section\"] = \"end\"\n",
    "\n",
    "all_splits[0].metadata"
   ]
  },
  {
   "cell_type": "code",
   "execution_count": 12,
   "id": "a2ea4194",
   "metadata": {},
   "outputs": [
    {
     "data": {
      "text/plain": [
       "{'source': 'Solder_Bridging_Docs\\\\1.pdf',\n",
       " 'page': 2,\n",
       " 'start_index': 0,\n",
       " 'section': 'beginning'}"
      ]
     },
     "execution_count": 12,
     "metadata": {},
     "output_type": "execute_result"
    }
   ],
   "source": [
    "all_splits[2].metadata"
   ]
  },
  {
   "cell_type": "code",
   "execution_count": 13,
   "id": "69a7a25c-c7ea-4e90-94e2-95e6de040b44",
   "metadata": {},
   "outputs": [
    {
     "name": "stdout",
     "output_type": "stream",
     "text": [
      "No. of splits: 1380\n"
     ]
    }
   ],
   "source": [
    "print(f\"No. of splits: {len(all_splits)}\")"
   ]
  },
  {
   "cell_type": "markdown",
   "id": "3e4e92dbe9a28fc3",
   "metadata": {},
   "source": [
    "### Storing documents"
   ]
  },
  {
   "cell_type": "code",
   "execution_count": 14,
   "id": "5a7847e8718206e7",
   "metadata": {
    "ExecuteTime": {
     "end_time": "2025-02-23T05:38:28.647461Z",
     "start_time": "2025-02-23T03:31:18.316245Z"
    }
   },
   "outputs": [
    {
     "name": "stdout",
     "output_type": "stream",
     "text": [
      "Inserted 100/1380 documents\n",
      "Inserted 200/1380 documents\n",
      "Inserted 300/1380 documents\n",
      "Inserted 400/1380 documents\n",
      "Inserted 500/1380 documents\n",
      "Inserted 600/1380 documents\n",
      "Inserted 700/1380 documents\n",
      "Inserted 800/1380 documents\n",
      "Inserted 900/1380 documents\n",
      "Inserted 1000/1380 documents\n",
      "Inserted 1100/1380 documents\n",
      "Inserted 1200/1380 documents\n",
      "Inserted 1300/1380 documents\n",
      "Inserted 1400/1380 documents\n",
      "['4d4a994b-9d13-4ab6-9fa3-e4bf50ef00ef', '1076e1d8-8f6d-44e8-b649-1172fb7eb777', '2158b735-22fa-483c-b5e9-8c2852a7f76d']\n"
     ]
    }
   ],
   "source": [
    "# Batch Insert Approach\n",
    "batch_size = 100\n",
    "\n",
    "document_ids = []\n",
    "for i in range(0, len(all_splits), batch_size):\n",
    "    batch = all_splits[i:min((i + batch_size), len(all_splits))]\n",
    "    batch_ids = vector_store.add_documents(documents=batch)\n",
    "    document_ids.extend(batch_ids)\n",
    "    print(f\"Inserted {min(i + batch_size, len(all_splits))}/{len(all_splits)} documents\")\n",
    "\n",
    "print(document_ids[:3])"
   ]
  },
  {
   "cell_type": "markdown",
   "id": "7e248213967c863e",
   "metadata": {},
   "source": [
    "# Query Analysis"
   ]
  },
  {
   "cell_type": "code",
   "execution_count": 15,
   "id": "50583a11040c6d4e",
   "metadata": {
    "ExecuteTime": {
     "end_time": "2025-02-23T06:59:59.409515Z",
     "start_time": "2025-02-23T06:59:59.105221Z"
    }
   },
   "outputs": [],
   "source": [
    "from typing import Literal\n",
    "from pydantic import BaseModel, Field\n",
    "\n",
    "class Search(BaseModel):\n",
    "    \"\"\"Search query.\"\"\"\n",
    "    query: str = Field(description=\"Search query to run.\")\n",
    "    section: Literal[\"beginning\", \"middle\", \"end\"] = Field(description=\"Section to query.\")"
   ]
  },
  {
   "cell_type": "code",
   "execution_count": 16,
   "id": "b69e90562d89a8d9",
   "metadata": {
    "ExecuteTime": {
     "end_time": "2025-02-23T07:14:31.704558Z",
     "start_time": "2025-02-23T07:14:31.637492Z"
    }
   },
   "outputs": [
    {
     "name": "stdout",
     "output_type": "stream",
     "text": [
      "\n",
      "You are an expert AI assistant specializing in answering complex questions using retrieved context.\n",
      "Your goal is to provide a detailed, structured, and well-formatted response with markdown elements.\n",
      "\n",
      "### Question:\n",
      "(question goes here)\n",
      "\n",
      "### Context:\n",
      "(context goes here)\n",
      "\n",
      "### Answer:\n",
      "- **Detailed Explanation:** Provide an in-depth response with supporting details using only the details given in the context.\n",
      "- **Bullet Points & Formatting:** Use bullet points, subheadings, and code blocks when relevant.\n",
      "- **Step-by-Step Breakdown:** If applicable, break down the answer into logical steps.\n",
      "- **Examples & Analogies:** Where helpful, give real-world examples or analogies.\n",
      "\n",
      "If the context does not contain enough information, state: \"**The provided context does not have sufficient details.**\"\n",
      "\n"
     ]
    }
   ],
   "source": [
    "from langchain.prompts import PromptTemplate\n",
    "\n",
    "custom_prompt = PromptTemplate(\n",
    "    input_variables=[\"context\", \"question\"],\n",
    "    template=\"\"\"\n",
    "You are an expert AI assistant specializing in answering complex questions using retrieved context.\n",
    "Your goal is to provide a detailed, structured, and well-formatted response with markdown elements.\n",
    "\n",
    "### Question:\n",
    "{question}\n",
    "\n",
    "### Context:\n",
    "{context}\n",
    "\n",
    "### Answer:\n",
    "- **Detailed Explanation:** Provide an in-depth response with supporting details using only the details given in the context.\n",
    "- **Bullet Points & Formatting:** Use bullet points, subheadings, and code blocks when relevant.\n",
    "- **Step-by-Step Breakdown:** If applicable, break down the answer into logical steps.\n",
    "- **Examples & Analogies:** Where helpful, give real-world examples or analogies.\n",
    "\n",
    "If the context does not contain enough information, state: \"**The provided context does not have sufficient details.**\"\n",
    "\"\"\",\n",
    ")\n",
    "\n",
    "example_messages = custom_prompt.format(\n",
    "    context=\"(context goes here)\",\n",
    "    question=\"(question goes here)\"\n",
    ")\n",
    "print(example_messages)"
   ]
  },
  {
   "cell_type": "markdown",
   "id": "756fac515164569",
   "metadata": {},
   "source": [
    "# Retrieval & Generation"
   ]
  },
  {
   "cell_type": "markdown",
   "id": "1931a86dd5bb04f2",
   "metadata": {},
   "source": [
    "### LangGraph"
   ]
  },
  {
   "cell_type": "markdown",
   "id": "9d8885d99b2a9d32",
   "metadata": {},
   "source": [
    "State"
   ]
  },
  {
   "cell_type": "code",
   "execution_count": 17,
   "id": "af1d56e032e72436",
   "metadata": {
    "ExecuteTime": {
     "end_time": "2025-02-23T07:14:48.282157Z",
     "start_time": "2025-02-23T07:14:48.238634Z"
    }
   },
   "outputs": [],
   "source": [
    "from langchain_core.documents import Document\n",
    "from typing_extensions import List, TypedDict\n",
    "\n",
    "\n",
    "class State(TypedDict):\n",
    "    question: str\n",
    "    query: Search\n",
    "    context: List[Document]\n",
    "    answer: str"
   ]
  },
  {
   "cell_type": "markdown",
   "id": "7304111ddedd3748",
   "metadata": {},
   "source": [
    "Nodes"
   ]
  },
  {
   "cell_type": "code",
   "execution_count": 18,
   "id": "90b437d71c9a4ca5",
   "metadata": {
    "ExecuteTime": {
     "end_time": "2025-02-23T07:14:49.624970Z",
     "start_time": "2025-02-23T07:14:49.604127Z"
    }
   },
   "outputs": [],
   "source": [
    "def analyze_query(state: State):\n",
    "    structured_llm = llm.with_structured_output(Search)\n",
    "    query = structured_llm.invoke(state[\"question\"])\n",
    "    return {\"query\": query}\n",
    "\n",
    "\n",
    "def retrieve(state: State):\n",
    "    query = state[\"query\"]\n",
    "    retrieved_docs = vector_store.similarity_search(\n",
    "        query.query,\n",
    "        k = 5,\n",
    "        filter={\"section\": query.section},\n",
    "    )\n",
    "    return {\"context\": retrieved_docs}\n",
    "\n",
    "\n",
    "def generate(state: State):\n",
    "    docs_content = \"\\n\\n\".join(doc.page_content for doc in state[\"context\"])\n",
    "    messages = custom_prompt.invoke({\"question\": state[\"question\"], \"context\": docs_content})\n",
    "    response = llm.invoke(messages)\n",
    "    return {\"answer\": response.content}"
   ]
  },
  {
   "cell_type": "markdown",
   "id": "ee5e3e58244519b",
   "metadata": {},
   "source": [
    "Control Flow"
   ]
  },
  {
   "cell_type": "code",
   "execution_count": 19,
   "id": "66079912a90232fd",
   "metadata": {
    "ExecuteTime": {
     "end_time": "2025-02-23T07:14:52.286566Z",
     "start_time": "2025-02-23T07:14:52.231500Z"
    }
   },
   "outputs": [],
   "source": [
    "from langgraph.graph import START, StateGraph\n",
    "\n",
    "graph_builder = StateGraph(State).add_sequence([analyze_query, retrieve, generate])\n",
    "graph_builder.add_edge(START, \"analyze_query\")\n",
    "graph = graph_builder.compile()"
   ]
  },
  {
   "cell_type": "code",
   "execution_count": 20,
   "id": "4f5db1af1ef50d1c",
   "metadata": {
    "ExecuteTime": {
     "end_time": "2025-02-23T07:14:57.026056Z",
     "start_time": "2025-02-23T07:14:56.166398Z"
    }
   },
   "outputs": [
    {
     "data": {
      "image/png": "[encoded data removed]",
      "text/plain": [
       "<IPython.core.display.Image object>"
      ]
     },
     "metadata": {},
     "output_type": "display_data"
    }
   ],
   "source": [
    "from IPython.display import Image, display\n",
    "\n",
    "display(Image(graph.get_graph().draw_mermaid_png()))"
   ]
  },
  {
   "cell_type": "markdown",
   "id": "d94eeed45aa35ecd",
   "metadata": {},
   "source": [
    "# Testing"
   ]
  },
  {
   "cell_type": "code",
   "execution_count": 21,
   "id": "12dd7198f35bb9da",
   "metadata": {
    "ExecuteTime": {
     "end_time": "2025-02-23T07:15:25.531062Z",
     "start_time": "2025-02-23T07:15:00.221436Z"
    },
    "scrolled": true
   },
   "outputs": [
    {
     "name": "stdout",
     "output_type": "stream",
     "text": [
      "Answer: The provided text lists the following defects associated with lead-free reflow soldering:\n",
      "\n",
      "* **Bridging:**  Solder forms a bridge connecting two adjacent solder joints that should be separate.\n",
      "* **Solder Balls:** Small spheres of solder separate from the main solder joint.\n",
      "* **Mid-chip Balling:**  A specific type of solder balling that occurs under a component, particularly BGA components.\n",
      "* **Poor Wetting:**  The solder does not adhere properly to the surfaces it is meant to join, resulting in a weak connection.\n",
      "* **Voids:**  Empty spaces or pockets within the solder joint, which can weaken the joint and affect its reliability.\n",
      "* **Tombstoning:** One end of a component lifts off the board during reflow, resembling a tombstone.\n",
      "* **De-wetting:** The solder pulls away from the surface it is meant to join, leaving exposed areas.\n",
      "\n",
      "\n",
      "The text emphasizes that these defects are often *not* an inherent problem of lead-free soldering itself, but rather a consequence of a poorly implemented process. A well-optimized and controlled lead-free process should not increase defect rates.  The higher temperatures required for lead-free soldering necessitate adjustments to the process, including the solder paste formulation, to avoid these defects.\n",
      "\n",
      "\n",
      "Context:-\n",
      "No. of docs in context: 5\n",
      "\n",
      "Doc 0:\n",
      "page_content='Vol. 3, pp. 1730–1738 (1992).\n",
      "25. B. Huang and N. C. Lee, ‘‘Prospects of Lead-free Alternatives\n",
      "for Reﬂow Soldering’’, in Proc. of IPC Works‘99 , S-03-10,\n",
      "Minneapolis, MN, 23–28, October 1999.' metadata={'page': 43, 'section': 'beginning', 'source': 'Solder_Bridging_Docs\\\\6.pdf', 'start_index': 6433}\n",
      "\n",
      "Doc 1:\n",
      "page_content='Lead-free SMT Soldering Defects  \n",
      "                 How to Prevent Them   \n",
      " \n",
      " \n",
      " \n",
      "  \n",
      " \n",
      "  \n",
      "Author: Peter Biocca, Senior Development Engineer, Kester, Des Plaines, Illinois.  \n",
      "                           Telephone 972.390.1197; email pbiocca@kester.com' metadata={'page': 0, 'section': 'beginning', 'source': 'Solder_Bridging_Docs\\\\4.pdf', 'start_index': 41}\n",
      "\n",
      "Doc 2:\n",
      "page_content='2/34 Reﬂow Soldering Processes and Troubleshooting\n",
      "26. ‘‘Lead-free Solder Project Final Report’’, NCMS Report\n",
      "0401RE96 (August 1997).\n",
      "27. C. Handwerker, ‘‘NCMS Lead Free Solder Project: A National\n",
      "Program’’, NEMI Lead Free Solder Meeting, Chicago, 25,\n",
      "May 1999.\n",
      "28. H. J. Fisher and A. Pillips, ‘‘Viscosity and Density of Liquid\n",
      "Lead–tin and Antimony–cadmium Alloys’’, J. Inst. Met. ,\n",
      "Vol. 11, pp. 1060–1070 (1954).\n",
      "29. J. C. Ambrose, M. G. Nicholas, and A. M. Stoneham, ‘‘Kinetics\n",
      "of Brazing Spreading’’ ,Proc. Conf. British Association for\n",
      "Brazing and Soldering , 1992 Autumn Conference, Coventry,\n",
      "UK.\n",
      "30. J. Glazer, ‘‘Metallurgy of Low Temperature Pb-free Solders\n",
      "for Electronic Assembly’’, International Materials Reviews ,\n",
      "Vol. 40, No. 2, pp. 65–93 (1995).\n",
      "31. D. Grivas, MS Thesis, University of California at Berkeley,\n",
      "January, 1974.\n",
      "32. A. Zubelewicz and B. Sammakia, ‘‘Physically Based Reliability\n",
      "Models for BGA Assemblies’’, in Proc. of Nepcon West 1998 ,\n",
      "Anaheim, CA, 1–5, March 1998.' metadata={'page': 44, 'section': 'beginning', 'source': 'Solder_Bridging_Docs\\\\6.pdf', 'start_index': 0}\n",
      "\n",
      "Doc 3:\n",
      "page_content='Often when a manufacturer transitions to lead-free soldering an increase in defects is noticed. This is often the result of a not properly implemented process. A well-defined, \n",
      "optimized and controlled lead-free process will not augment defect rates.    The main differences between a leaded and lead-free SMT process are summarized \n",
      "below: \n",
      " \n",
      " Solder physical properties, melting point, surface tension, oxidation \n",
      "potential, metallurgy and metal leaching potential  \n",
      " Higher peak temperatures \n",
      " Higher preheat temperatures \n",
      " Lead-free finishes for boards and components (preferred) \n",
      " Solder cosmetics and surface effects \n",
      " Solderability differences such as speed of wetting and spread \n",
      " Less self-centering or alignment of components \n",
      " \n",
      "The liquidus temperature of SAC alloys is 217-220 °C; this is about 34 °C above the \n",
      "melting point of eutectic 63/37. This higher melting range requires peak temperatures to' metadata={'page': 1, 'section': 'beginning', 'source': 'Solder_Bridging_Docs\\\\4.pdf', 'start_index': 742}\n",
      "\n",
      "Doc 4:\n",
      "page_content='The basic ingredients in a solder paste flux can be summarized as indicated below: \n",
      " \n",
      " Resins solid and liquid types \n",
      " Activators, organic acid and/or hydrohalides  \n",
      " Solvents and co-solvents \n",
      " Gelling agents  \n",
      " Surfactants \n",
      " Chelating agents \n",
      " \n",
      "Solder paste manufacturers have had to revisit most of these ingredients to account for \n",
      "the higher temperatures experienced in the reflow operation. Most of these ingredients \n",
      "are organic compounds and thermal stability up to 245 °C is essential to avoid issues of \n",
      "decomposition, oxidation, and polymerization of paste flux during reflow. \n",
      " \n",
      "Lead-free solder pastes designed for lead-free alloys and also alloy specific will function best and help prevent solder defects.  \n",
      "Typical defects associated with lead-free reflow soldering are: \n",
      " \n",
      " Bridging  \n",
      " Solder balls \n",
      " Mid-chip balling \n",
      " Poor wetting  \n",
      " Voids \n",
      " Tomb-stoning \n",
      " De-wetting \n",
      " Bridging, Solder balls and Mid-chip Balling' metadata={'page': 2, 'section': 'beginning', 'source': 'Solder_Bridging_Docs\\\\4.pdf', 'start_index': 0}\n"
     ]
    }
   ],
   "source": [
    "result = graph.invoke({\"question\": \"What are defects that can be associated with lead-free reflow soldering?\"})         # Answer in Page 3   of 4.pdf\n",
    "\n",
    "print(f'Answer: {result[\"answer\"]}')\n",
    "\n",
    "print(f'\\n\\nContext:-')\n",
    "print(f\"No. of docs in context: {len(result[\"context\"])}\")\n",
    "\n",
    "for i, doc in enumerate(result[\"context\"]):\n",
    "    print(f\"\\nDoc {i}:\")\n",
    "    print(doc)"
   ]
  },
  {
   "cell_type": "code",
   "execution_count": 22,
   "id": "097dfbc0",
   "metadata": {},
   "outputs": [
    {
     "name": "stdout",
     "output_type": "stream",
     "text": [
      "Answer: Potential failure modes during lead-free reflow soldering, according to the provided text, include:\n",
      "\n",
      "* **Bridging:** Solder bridging between adjacent component leads or solder pads.\n",
      "* **Solder Balls:** Formation of small solder spheres separate from the solder joint.\n",
      "* **Mid-chip Balling:**  Solder balling specifically occurring under a component's body (mid-chip).\n",
      "* **Poor Wetting:** Insufficient wetting of the solder to the component leads and/or PCB pads.\n",
      "* **Voids:** Formation of air pockets within the solder joint.\n",
      "* **Tombstoning:** One end of a component lifting off the PCB pad during reflow, resembling a tombstone.\n",
      "* **De-wetting:**  The solder retracting or pulling away from the surface it is supposed to bond to, leaving exposed areas.\n",
      "* **Cracking:** Due to higher stiffness and lower ductility of lead-free solders, cracking can occur under thermal stress.\n",
      "* **Compatibility Issues:**  Some lead-free solder alloys may not be compatible with certain components or PCB finishes, leading to potential reliability issues, such as the formation of brittle intermetallic compounds with finishes like nickel-gold.\n",
      "* **Thermal Sensitivity:** Some components are sensitive to the higher temperatures required for lead-free soldering.\n",
      "* **Flux-Related Defects:** Issues stemming from the flux used in the solder paste, including decomposition, oxidation, and polymerization due to higher reflow temperatures.  Using a lead-free solder paste designed for the specific alloy can mitigate these issues.\n",
      "\n",
      "\n",
      "The text also highlights the importance of considering component thermal sensitivity and using appropriate lead-free solder pastes designed for the specific alloy being used to prevent these defects.\n",
      "\n",
      "\n",
      "Context:-\n",
      "No. of docs in context: 5\n",
      "\n",
      "Doc 0:\n",
      "page_content='Vol. 3, pp. 1730–1738 (1992).\n",
      "25. B. Huang and N. C. Lee, ‘‘Prospects of Lead-free Alternatives\n",
      "for Reﬂow Soldering’’, in Proc. of IPC Works‘99 , S-03-10,\n",
      "Minneapolis, MN, 23–28, October 1999.' metadata={'page': 43, 'section': 'beginning', 'source': 'Solder_Bridging_Docs\\\\6.pdf', 'start_index': 6433}\n",
      "\n",
      "Doc 1:\n",
      "page_content='2/34 Reﬂow Soldering Processes and Troubleshooting\n",
      "26. ‘‘Lead-free Solder Project Final Report’’, NCMS Report\n",
      "0401RE96 (August 1997).\n",
      "27. C. Handwerker, ‘‘NCMS Lead Free Solder Project: A National\n",
      "Program’’, NEMI Lead Free Solder Meeting, Chicago, 25,\n",
      "May 1999.\n",
      "28. H. J. Fisher and A. Pillips, ‘‘Viscosity and Density of Liquid\n",
      "Lead–tin and Antimony–cadmium Alloys’’, J. Inst. Met. ,\n",
      "Vol. 11, pp. 1060–1070 (1954).\n",
      "29. J. C. Ambrose, M. G. Nicholas, and A. M. Stoneham, ‘‘Kinetics\n",
      "of Brazing Spreading’’ ,Proc. Conf. British Association for\n",
      "Brazing and Soldering , 1992 Autumn Conference, Coventry,\n",
      "UK.\n",
      "30. J. Glazer, ‘‘Metallurgy of Low Temperature Pb-free Solders\n",
      "for Electronic Assembly’’, International Materials Reviews ,\n",
      "Vol. 40, No. 2, pp. 65–93 (1995).\n",
      "31. D. Grivas, MS Thesis, University of California at Berkeley,\n",
      "January, 1974.\n",
      "32. A. Zubelewicz and B. Sammakia, ‘‘Physically Based Reliability\n",
      "Models for BGA Assemblies’’, in Proc. of Nepcon West 1998 ,\n",
      "Anaheim, CA, 1–5, March 1998.' metadata={'page': 44, 'section': 'beginning', 'source': 'Solder_Bridging_Docs\\\\6.pdf', 'start_index': 0}\n",
      "\n",
      "Doc 2:\n",
      "page_content='Lead-free SMT Soldering Defects  \n",
      "                 How to Prevent Them   \n",
      " \n",
      " \n",
      " \n",
      "  \n",
      " \n",
      "  \n",
      "Author: Peter Biocca, Senior Development Engineer, Kester, Des Plaines, Illinois.  \n",
      "                           Telephone 972.390.1197; email pbiocca@kester.com' metadata={'page': 0, 'section': 'beginning', 'source': 'Solder_Bridging_Docs\\\\4.pdf', 'start_index': 41}\n",
      "\n",
      "Doc 3:\n",
      "page_content='The higher stiffness and lower ductility of lead-free solders can lead to \n",
      "increased susceptibility to cracking and failure under thermal stress.\n",
      "■Compatibility issues  may arise as some lead-free solder alloys may \n",
      "not be compatible with certain components or PCB ﬁ  nishes, leading \n",
      "to potential reliability issues. For example, tin-silver-copper alloys can \n",
      "form brittle intermetallic compounds with certain surface ﬁ  nishes like \n",
      "nickel-gold.\n",
      "These challenges require careful consideration and adaptation of soldering \n",
      "processes as well as choice of materials to ensure reliable and high-quality solder joints.Component Considerations\n",
      "Reﬂ ow and wave soldering are suitable for a wide variety of components, \n",
      "both SMT and THT . The key considerations regarding the components to \n",
      "be soldered are:\n",
      "■Thermal sensitivity : Some components, especially certain types of \n",
      "ICs and electrolytic capacitors, may be sensitive to high temperatures.' metadata={'page': 1, 'section': 'beginning', 'source': 'Solder_Bridging_Docs\\\\3.pdf', 'start_index': 2337}\n",
      "\n",
      "Doc 4:\n",
      "page_content='The basic ingredients in a solder paste flux can be summarized as indicated below: \n",
      " \n",
      " Resins solid and liquid types \n",
      " Activators, organic acid and/or hydrohalides  \n",
      " Solvents and co-solvents \n",
      " Gelling agents  \n",
      " Surfactants \n",
      " Chelating agents \n",
      " \n",
      "Solder paste manufacturers have had to revisit most of these ingredients to account for \n",
      "the higher temperatures experienced in the reflow operation. Most of these ingredients \n",
      "are organic compounds and thermal stability up to 245 °C is essential to avoid issues of \n",
      "decomposition, oxidation, and polymerization of paste flux during reflow. \n",
      " \n",
      "Lead-free solder pastes designed for lead-free alloys and also alloy specific will function best and help prevent solder defects.  \n",
      "Typical defects associated with lead-free reflow soldering are: \n",
      " \n",
      " Bridging  \n",
      " Solder balls \n",
      " Mid-chip balling \n",
      " Poor wetting  \n",
      " Voids \n",
      " Tomb-stoning \n",
      " De-wetting \n",
      " Bridging, Solder balls and Mid-chip Balling' metadata={'page': 2, 'section': 'beginning', 'source': 'Solder_Bridging_Docs\\\\4.pdf', 'start_index': 0}\n"
     ]
    }
   ],
   "source": [
    "result = graph.invoke({\"question\": \"What are the potential failure modes during lead-free reflow soldering?\"})         # Answer in Page 3   of 4.pdf\n",
    "\n",
    "print(f'Answer: {result[\"answer\"]}')\n",
    "\n",
    "print(f'\\n\\nContext:-')\n",
    "print(f\"No. of docs in context: {len(result[\"context\"])}\")\n",
    "\n",
    "for i, doc in enumerate(result[\"context\"]):\n",
    "    print(f\"\\nDoc {i}:\")\n",
    "    print(doc)"
   ]
  },
  {
   "cell_type": "markdown",
   "id": "77db4125-f8e6-4624-af22-d17b353c657e",
   "metadata": {},
   "source": [
    "Listing all the steps in the graph stream"
   ]
  },
  {
   "cell_type": "code",
   "execution_count": null,
   "id": "554aabcf1494992b",
   "metadata": {
    "ExecuteTime": {
     "end_time": "2025-02-23T07:32:33.854180Z",
     "start_time": "2025-02-23T07:31:46.442079Z"
    }
   },
   "outputs": [],
   "source": [
    "for step in graph.stream(\n",
    "        {\"question\": \"Why does lead-free reflow show poor wetting?\"}, stream_mode=\"updates\"             # Answer in Page 5 of 4.pdf\n",
    "):\n",
    "    print(f\"{step}\\n\\n----------------\\n\")"
   ]
  },
  {
   "cell_type": "code",
   "execution_count": null,
   "id": "df009070301cdb3f",
   "metadata": {
    "ExecuteTime": {
     "end_time": "2025-02-23T07:18:24.632431Z",
     "start_time": "2025-02-23T07:18:08.669179Z"
    }
   },
   "outputs": [],
   "source": [
    "for message, metadata in graph.stream(\n",
    "        {\"question\": \"What are some causes of voids in joints?\"}, stream_mode=\"messages\"\n",
    "):\n",
    "    print(message.content, end=\"|\")"
   ]
  }
 ],
 "metadata": {
  "kernelspec": {
   "display_name": "Python 3 (ipykernel)",
   "language": "python",
   "name": "python3"
  },
  "language_info": {
   "codemirror_mode": {
    "name": "ipython",
    "version": 3
   },
   "file_extension": ".py",
   "mimetype": "text/x-python",
   "name": "python",
   "nbconvert_exporter": "python",
   "pygments_lexer": "ipython3",
   "version": "3.12.3"
  }
 },
 "nbformat": 4,
 "nbformat_minor": 5
}
