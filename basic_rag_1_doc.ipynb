{
 "cells": [
  {
   "cell_type": "markdown",
   "id": "43abf563a8190e4c",
   "metadata": {},
   "source": [
    "# Setup"
   ]
  },
  {
   "cell_type": "markdown",
   "id": "27ff6b2fdd2b6507",
   "metadata": {},
   "source": [
    "### Dependencies"
   ]
  },
  {
   "cell_type": "markdown",
   "id": "96b7a7946daa991b",
   "metadata": {},
   "source": [
    "`\n",
    "pip install --quiet --upgrade langchain-text-splitters langchain-community langgraph beautifulsoup4 langchain-google-genai langchain-huggingface langchain-chroma jupyter ipywidgets tqdm python-dotenv\n",
    "`"
   ]
  },
  {
   "cell_type": "markdown",
   "id": "b6de663b8665a126",
   "metadata": {},
   "source": [
    "### LangSmith"
   ]
  },
  {
   "cell_type": "code",
   "execution_count": 1,
   "id": "c2ab152b663fe445",
   "metadata": {
    "ExecuteTime": {
     "end_time": "2025-02-23T03:30:21.745155Z",
     "start_time": "2025-02-23T03:30:21.667732Z"
    }
   },
   "outputs": [],
   "source": [
    "import os\n",
    "\n",
    "from dotenv import load_dotenv\n",
    "\n",
    "load_dotenv()\n",
    "\n",
    "os.environ[\"LANGSMITH_TRACING\"] = \"true\"\n",
    "os.environ[\"LANGSMITH_API_KEY\"] = os.getenv(\"LANGSMITH_API_KEY\")"
   ]
  },
  {
   "cell_type": "markdown",
   "id": "d142ca5d335eb858",
   "metadata": {},
   "source": [
    "### Components"
   ]
  },
  {
   "cell_type": "markdown",
   "id": "c224f4d7d82ab687",
   "metadata": {},
   "source": [
    "Chat Model: Google AI"
   ]
  },
  {
   "cell_type": "code",
   "execution_count": 2,
   "id": "de7f5b28be15f7d",
   "metadata": {
    "ExecuteTime": {
     "end_time": "2025-02-23T03:30:21.769699Z",
     "start_time": "2025-02-23T03:30:21.747171Z"
    }
   },
   "outputs": [],
   "source": [
    "os.environ[\"GOOGLE_API_KEY\"] = os.getenv(\"GOOGLE_API_KEY\")"
   ]
  },
  {
   "cell_type": "code",
   "execution_count": 3,
   "id": "35df20055aa97c3a",
   "metadata": {
    "ExecuteTime": {
     "end_time": "2025-02-23T03:30:35.251230Z",
     "start_time": "2025-02-23T03:30:24.495789Z"
    }
   },
   "outputs": [],
   "source": [
    "from langchain_google_genai import ChatGoogleGenerativeAI\n",
    "\n",
    "llm = ChatGoogleGenerativeAI(\n",
    "    model=\"gemini-1.5-pro\",\n",
    "    temperature=0,\n",
    "    max_tokens=None,\n",
    "    timeout=None,\n",
    "    max_retries=2,\n",
    "    # other params...\n",
    ")"
   ]
  },
  {
   "cell_type": "code",
   "execution_count": 4,
   "id": "d73667a16340d81b",
   "metadata": {
    "ExecuteTime": {
     "end_time": "2025-02-23T03:31:14.027562Z",
     "start_time": "2025-02-23T03:30:35.277077Z"
    }
   },
   "outputs": [],
   "source": [
    "from langchain_huggingface import HuggingFaceEmbeddings\n",
    "\n",
    "embeddings = HuggingFaceEmbeddings(model_name=\"sentence-transformers/all-mpnet-base-v2\",\n",
    "                                   cache_folder=\"huggingface_models\")"
   ]
  },
  {
   "cell_type": "markdown",
   "id": "cb25e30316d950de",
   "metadata": {},
   "source": [
    "Vector Store: Chroma"
   ]
  },
  {
   "cell_type": "code",
   "execution_count": 5,
   "id": "43e60cdf42ed4999",
   "metadata": {
    "ExecuteTime": {
     "end_time": "2025-02-23T03:31:16.849944Z",
     "start_time": "2025-02-23T03:31:14.036486Z"
    }
   },
   "outputs": [],
   "source": [
    "from langchain_chroma import Chroma\n",
    "\n",
    "vector_store = Chroma(embedding_function=embeddings, persist_directory=\"chroma_db\")"
   ]
  },
  {
   "cell_type": "markdown",
   "id": "63119e6faa366d1c",
   "metadata": {},
   "source": [
    "# Indexing"
   ]
  },
  {
   "cell_type": "markdown",
   "id": "f1632d452fb4f712",
   "metadata": {},
   "source": [
    "### Loading Documents"
   ]
  },
  {
   "cell_type": "code",
   "execution_count": 6,
   "id": "initial_id",
   "metadata": {
    "ExecuteTime": {
     "end_time": "2025-02-23T03:31:17.396131Z",
     "start_time": "2025-02-23T03:31:16.859577Z"
    }
   },
   "outputs": [],
   "source": [
    "# from langchain_community.document_loaders import TextLoader\n",
    "# from pathlib import Path\n",
    "\n",
    "# # Define the folder where your .txt files are stored\n",
    "# txt_folder = r\"D:\\Mahabharat Text\"\n",
    "\n",
    "# # Load all .txt files from the folder\n",
    "# file_paths = list(Path(txt_folder).glob(\"*.txt\"))\n",
    "\n",
    "# # Load documents\n",
    "# docs = [TextLoader(str(file_path)).load()[0] for file_path in file_paths]\n",
    "\n",
    "# # Print total character count from all files\n",
    "# total_chars = sum(len(doc.page_content) for doc in docs)\n",
    "# print(f\"Total characters: {total_chars}\")\n"
   ]
  },
  {
   "cell_type": "code",
   "execution_count": 7,
   "id": "b20f00e8-517d-4d8c-a620-73b4ff8c369d",
   "metadata": {},
   "outputs": [
    {
     "name": "stderr",
     "output_type": "stream",
     "text": [
      "C:\\Users\\Ryan\\anaconda3\\envs\\nlp_proj_env\\Lib\\site-packages\\pypdf\\_crypt_providers\\_cryptography.py:32: CryptographyDeprecationWarning: ARC4 has been moved to cryptography.hazmat.decrepit.ciphers.algorithms.ARC4 and will be removed from cryptography.hazmat.primitives.ciphers.algorithms in 48.0.0.\n",
      "  from cryptography.hazmat.primitives.ciphers.algorithms import AES, ARC4\n"
     ]
    },
    {
     "name": "stdout",
     "output_type": "stream",
     "text": [
      "Total characters: 17390\n"
     ]
    }
   ],
   "source": [
    "from langchain_community.document_loaders import PyPDFLoader\n",
    "from pathlib import Path\n",
    "\n",
    "# Define the folder where your PDF files are stored\n",
    "pdf_folder = r\"./Solder_Bridging_Docs\"\n",
    "\n",
    "# Load all .pdf files from the folder\n",
    "# file_paths = list(Path(pdf_folder).glob(\"*.pdf\"))\n",
    "file_paths = [Path(r\"./Solder_Bridging_Docs/4.pdf\")]\n",
    "\n",
    "# Load documents\n",
    "docs = []\n",
    "for file_path in file_paths:\n",
    "    loader = PyPDFLoader(str(file_path))\n",
    "    pages = loader.load()\n",
    "    docs.extend(pages)  # Append all pages of the PDF\n",
    "\n",
    "# Print total character count from all files\n",
    "total_chars = sum(len(doc.page_content) for doc in docs)\n",
    "print(f\"Total characters: {total_chars}\")"
   ]
  },
  {
   "cell_type": "code",
   "execution_count": 8,
   "id": "50fcfaf513dae6e9",
   "metadata": {
    "ExecuteTime": {
     "end_time": "2025-02-23T03:31:17.475246Z",
     "start_time": "2025-02-23T03:31:17.468422Z"
    }
   },
   "outputs": [
    {
     "name": "stdout",
     "output_type": "stream",
     "text": [
      " \n",
      " \n",
      " \n",
      "  \n",
      " \n",
      " \n",
      "         \n",
      "         \n",
      "        Lead-free SMT Soldering Defects  \n",
      "                 How to Prevent Them   \n",
      " \n",
      " \n",
      " \n",
      "  \n",
      " \n",
      "  \n",
      "Author: Peter Biocca, Senior Development Engineer, Kester, Des Plaines, Illinois.  \n",
      "                           Telephone 972.390.1197; email pbiocca@kester.com                                                              \n",
      "                                                                                                                \n",
      "                                                                                                                \n",
      " \n",
      " \n",
      "\n"
     ]
    }
   ],
   "source": [
    "print(docs[0].page_content[:1000])"
   ]
  },
  {
   "cell_type": "markdown",
   "id": "56a9419168db8f89",
   "metadata": {},
   "source": [
    "### Splitting Documents"
   ]
  },
  {
   "cell_type": "code",
   "execution_count": 9,
   "id": "86a72f8fb4592a33",
   "metadata": {
    "ExecuteTime": {
     "end_time": "2025-02-23T03:31:18.208069Z",
     "start_time": "2025-02-23T03:31:17.481672Z"
    }
   },
   "outputs": [
    {
     "name": "stdout",
     "output_type": "stream",
     "text": [
      "Split all the solder bridging docs text into 23 sub-documents.\n"
     ]
    }
   ],
   "source": [
    "from langchain_text_splitters import RecursiveCharacterTextSplitter\n",
    "\n",
    "text_splitter = RecursiveCharacterTextSplitter(\n",
    "    chunk_size=1000,  # chunk size (characters)\n",
    "    chunk_overlap=200,  # chunk overlap (characters)\n",
    "    add_start_index=True,  # track index in original document\n",
    ")\n",
    "all_splits = text_splitter.split_documents(docs)\n",
    "\n",
    "print(f\"Split all the solder bridging docs text into {len(all_splits)} sub-documents.\")"
   ]
  },
  {
   "cell_type": "markdown",
   "id": "68830ffca259b15a",
   "metadata": {},
   "source": [
    "### Adding metadata"
   ]
  },
  {
   "cell_type": "code",
   "execution_count": 10,
   "id": "1d6692ad7f7d5",
   "metadata": {
    "ExecuteTime": {
     "end_time": "2025-02-23T03:31:18.296285Z",
     "start_time": "2025-02-23T03:31:18.275940Z"
    }
   },
   "outputs": [
    {
     "data": {
      "text/plain": [
       "{'source': 'Solder_Bridging_Docs\\\\4.pdf',\n",
       " 'page': 0,\n",
       " 'start_index': 41,\n",
       " 'section': 'beginning'}"
      ]
     },
     "execution_count": 10,
     "metadata": {},
     "output_type": "execute_result"
    }
   ],
   "source": [
    "total_documents = len(all_splits)\n",
    "third = total_documents // 3\n",
    "\n",
    "for i, document in enumerate(all_splits):\n",
    "    if i < third:\n",
    "        document.metadata[\"section\"] = \"beginning\"\n",
    "    elif i < 2 * third:\n",
    "        document.metadata[\"section\"] = \"middle\"\n",
    "    else:\n",
    "        document.metadata[\"section\"] = \"end\"\n",
    "\n",
    "all_splits[0].metadata"
   ]
  },
  {
   "cell_type": "code",
   "execution_count": 11,
   "id": "a2ea4194",
   "metadata": {},
   "outputs": [
    {
     "data": {
      "text/plain": [
       "{'source': 'Solder_Bridging_Docs\\\\4.pdf',\n",
       " 'page': 1,\n",
       " 'start_index': 742,\n",
       " 'section': 'beginning'}"
      ]
     },
     "execution_count": 11,
     "metadata": {},
     "output_type": "execute_result"
    }
   ],
   "source": [
    "all_splits[2].metadata"
   ]
  },
  {
   "cell_type": "markdown",
   "id": "3e4e92dbe9a28fc3",
   "metadata": {},
   "source": [
    "### Storing documents"
   ]
  },
  {
   "cell_type": "code",
   "execution_count": 12,
   "id": "5a7847e8718206e7",
   "metadata": {
    "ExecuteTime": {
     "end_time": "2025-02-23T05:38:28.647461Z",
     "start_time": "2025-02-23T03:31:18.316245Z"
    }
   },
   "outputs": [
    {
     "name": "stdout",
     "output_type": "stream",
     "text": [
      "Inserted 1000/23 documents\n",
      "['9e5eedf8-d229-4187-aa73-f28507f04ba6', '799c2694-9799-4e27-99d0-1c7954c95fe7', '00cfe44d-9c9f-4dea-8f8f-16a591cceff3']\n"
     ]
    }
   ],
   "source": [
    "# Batch Insert Approach\n",
    "batch_size = 1000\n",
    "\n",
    "document_ids = []\n",
    "for i in range(0, len(all_splits), batch_size):\n",
    "    batch = all_splits[i:max((i + batch_size), len(all_splits))]\n",
    "    batch_ids = vector_store.add_documents(documents=batch)\n",
    "    document_ids.extend(batch_ids)\n",
    "    print(f\"Inserted {i + batch_size}/{len(all_splits)} documents\")\n",
    "\n",
    "print(document_ids[:3])"
   ]
  },
  {
   "cell_type": "markdown",
   "id": "7e248213967c863e",
   "metadata": {},
   "source": [
    "# Query Analysis"
   ]
  },
  {
   "cell_type": "code",
   "execution_count": 13,
   "id": "50583a11040c6d4e",
   "metadata": {
    "ExecuteTime": {
     "end_time": "2025-02-23T06:59:59.409515Z",
     "start_time": "2025-02-23T06:59:59.105221Z"
    }
   },
   "outputs": [],
   "source": [
    "from typing import Literal\n",
    "from pydantic import BaseModel, Field\n",
    "\n",
    "class Search(BaseModel):\n",
    "    \"\"\"Search query.\"\"\"\n",
    "    query: str = Field(description=\"Search query to run.\")\n",
    "    section: Literal[\"beginning\", \"middle\", \"end\"] = Field(description=\"Section to query.\")"
   ]
  },
  {
   "cell_type": "code",
   "execution_count": 14,
   "id": "b69e90562d89a8d9",
   "metadata": {
    "ExecuteTime": {
     "end_time": "2025-02-23T07:14:31.704558Z",
     "start_time": "2025-02-23T07:14:31.637492Z"
    }
   },
   "outputs": [
    {
     "name": "stdout",
     "output_type": "stream",
     "text": [
      "\n",
      "You are an expert AI assistant specializing in answering complex questions using retrieved context.\n",
      "Your goal is to provide a detailed, structured, and well-formatted response with markdown elements.\n",
      "\n",
      "### Question:\n",
      "(question goes here)\n",
      "\n",
      "### Context:\n",
      "(context goes here)\n",
      "\n",
      "### Answer:\n",
      "- **Detailed Explanation:** Provide an in-depth response with supporting details using only the details given in the context.\n",
      "- **Bullet Points & Formatting:** Use bullet points, subheadings, and code blocks when relevant.\n",
      "- **Step-by-Step Breakdown:** If applicable, break down the answer into logical steps.\n",
      "- **Examples & Analogies:** Where helpful, give real-world examples or analogies.\n",
      "\n",
      "If the context does not contain enough information, state: \"**The provided context does not have sufficient details.**\"\n",
      "\n"
     ]
    }
   ],
   "source": [
    "from langchain.prompts import PromptTemplate\n",
    "\n",
    "custom_prompt = PromptTemplate(\n",
    "    input_variables=[\"context\", \"question\"],\n",
    "    template=\"\"\"\n",
    "You are an expert AI assistant specializing in answering complex questions using retrieved context.\n",
    "Your goal is to provide a detailed, structured, and well-formatted response with markdown elements.\n",
    "\n",
    "### Question:\n",
    "{question}\n",
    "\n",
    "### Context:\n",
    "{context}\n",
    "\n",
    "### Answer:\n",
    "- **Detailed Explanation:** Provide an in-depth response with supporting details using only the details given in the context.\n",
    "- **Bullet Points & Formatting:** Use bullet points, subheadings, and code blocks when relevant.\n",
    "- **Step-by-Step Breakdown:** If applicable, break down the answer into logical steps.\n",
    "- **Examples & Analogies:** Where helpful, give real-world examples or analogies.\n",
    "\n",
    "If the context does not contain enough information, state: \"**The provided context does not have sufficient details.**\"\n",
    "\"\"\",\n",
    ")\n",
    "\n",
    "example_messages = custom_prompt.format(\n",
    "    context=\"(context goes here)\",\n",
    "    question=\"(question goes here)\"\n",
    ")\n",
    "print(example_messages)"
   ]
  },
  {
   "cell_type": "markdown",
   "id": "756fac515164569",
   "metadata": {},
   "source": [
    "# Retrieval & Generation"
   ]
  },
  {
   "cell_type": "markdown",
   "id": "1931a86dd5bb04f2",
   "metadata": {},
   "source": [
    "### LangGraph"
   ]
  },
  {
   "cell_type": "markdown",
   "id": "9d8885d99b2a9d32",
   "metadata": {},
   "source": [
    "State"
   ]
  },
  {
   "cell_type": "code",
   "execution_count": 15,
   "id": "af1d56e032e72436",
   "metadata": {
    "ExecuteTime": {
     "end_time": "2025-02-23T07:14:48.282157Z",
     "start_time": "2025-02-23T07:14:48.238634Z"
    }
   },
   "outputs": [],
   "source": [
    "from langchain_core.documents import Document\n",
    "from typing_extensions import List, TypedDict\n",
    "\n",
    "\n",
    "class State(TypedDict):\n",
    "    question: str\n",
    "    query: Search\n",
    "    context: List[Document]\n",
    "    answer: str"
   ]
  },
  {
   "cell_type": "markdown",
   "id": "7304111ddedd3748",
   "metadata": {},
   "source": [
    "Nodes"
   ]
  },
  {
   "cell_type": "code",
   "execution_count": 16,
   "id": "90b437d71c9a4ca5",
   "metadata": {
    "ExecuteTime": {
     "end_time": "2025-02-23T07:14:49.624970Z",
     "start_time": "2025-02-23T07:14:49.604127Z"
    }
   },
   "outputs": [],
   "source": [
    "def analyze_query(state: State):\n",
    "    structured_llm = llm.with_structured_output(Search)\n",
    "    query = structured_llm.invoke(state[\"question\"])\n",
    "    return {\"query\": query}\n",
    "\n",
    "\n",
    "def retrieve(state: State):\n",
    "    query = state[\"query\"]\n",
    "    retrieved_docs = vector_store.similarity_search(\n",
    "        query.query,\n",
    "        filter={\"section\": query.section},\n",
    "    )\n",
    "    return {\"context\": retrieved_docs}\n",
    "\n",
    "\n",
    "def generate(state: State):\n",
    "    docs_content = \"\\n\\n\".join(doc.page_content for doc in state[\"context\"])\n",
    "    messages = custom_prompt.invoke({\"question\": state[\"question\"], \"context\": docs_content})\n",
    "    response = llm.invoke(messages)\n",
    "    return {\"answer\": response.content}"
   ]
  },
  {
   "cell_type": "markdown",
   "id": "ee5e3e58244519b",
   "metadata": {},
   "source": [
    "Control Flow"
   ]
  },
  {
   "cell_type": "code",
   "execution_count": 17,
   "id": "66079912a90232fd",
   "metadata": {
    "ExecuteTime": {
     "end_time": "2025-02-23T07:14:52.286566Z",
     "start_time": "2025-02-23T07:14:52.231500Z"
    }
   },
   "outputs": [],
   "source": [
    "from langgraph.graph import START, StateGraph\n",
    "\n",
    "graph_builder = StateGraph(State).add_sequence([analyze_query, retrieve, generate])\n",
    "graph_builder.add_edge(START, \"analyze_query\")\n",
    "graph = graph_builder.compile()"
   ]
  },
  {
   "cell_type": "code",
   "execution_count": 18,
   "id": "4f5db1af1ef50d1c",
   "metadata": {
    "ExecuteTime": {
     "end_time": "2025-02-23T07:14:57.026056Z",
     "start_time": "2025-02-23T07:14:56.166398Z"
    }
   },
   "outputs": [
    {
     "data": {
      "image/png": "[encoded data removed]",
      "text/plain": [
       "<IPython.core.display.Image object>"
      ]
     },
     "metadata": {},
     "output_type": "display_data"
    }
   ],
   "source": [
    "from IPython.display import Image, display\n",
    "\n",
    "display(Image(graph.get_graph().draw_mermaid_png()))"
   ]
  },
  {
   "cell_type": "markdown",
   "id": "d94eeed45aa35ecd",
   "metadata": {},
   "source": [
    "# Testing"
   ]
  },
  {
   "cell_type": "code",
   "execution_count": 25,
   "id": "12dd7198f35bb9da",
   "metadata": {
    "ExecuteTime": {
     "end_time": "2025-02-23T07:15:25.531062Z",
     "start_time": "2025-02-23T07:15:00.221436Z"
    },
    "scrolled": true
   },
   "outputs": [
    {
     "name": "stdout",
     "output_type": "stream",
     "text": [
      "Answer: The provided context lists several differences between leaded and lead-free SMT processes, which can contribute to defects if the lead-free process is not properly implemented.  While the context doesn't explicitly list *defects*, it highlights the *differences* that can *lead* to defects if not addressed.  These differences, and therefore the potential associated defects, are:\n",
      "\n",
      "* **Solder Physical Properties:** Differences in melting point, surface tension, oxidation potential, metallurgy, and metal leaching potential between leaded and lead-free solders can lead to various defects if not accounted for.  For example, higher surface tension can contribute to poor wetting or bridging.  Different metallurgy can lead to weakened joints or formation of intermetallic compounds that affect reliability.\n",
      "\n",
      "* **Higher Peak Temperatures:** The higher temperatures required for lead-free soldering can cause issues such as component damage, substrate delamination, and increased oxidation.\n",
      "\n",
      "* **Higher Preheat Temperatures:**  Similar to higher peak temperatures, increased preheat temperatures can also stress components and substrates.\n",
      "\n",
      "* **Lead-Free Finishes:** While preferred, using lead-free finishes for boards and components introduces its own set of challenges related to solderability and potential for different intermetallic formations.  Mismatches between board and component finishes can exacerbate these issues.\n",
      "\n",
      "* **Solder Cosmetics and Surface Effects:**  Lead-free solders can exhibit different visual characteristics compared to leaded solders.  While not necessarily a functional defect, these cosmetic differences might be perceived as flaws.\n",
      "\n",
      "* **Solderability Differences:**  The speed of wetting and spread can be different with lead-free solders, potentially leading to incomplete solder joints, insufficient wetting, or bridging.\n",
      "\n",
      "* **Less Self-Centering/Alignment:** Lead-free solders offer less self-centering capability, making component placement and alignment more critical. This can lead to misaligned components or tombstoning.\n",
      "\n",
      "\n",
      "It's important to note that the context emphasizes that a \"well-defined, optimized and controlled lead-free process will *not* augment defect rates.\"  The differences listed are potential problem areas, but they can be mitigated with proper process control.\n",
      "Context:-\n",
      "No. of docs in context: 4\n",
      "\n",
      "Doc 0:\n",
      "page_content='Lead-free SMT Soldering Defects  \n",
      "                 How to Prevent Them   \n",
      " \n",
      " \n",
      " \n",
      "  \n",
      " \n",
      "  \n",
      "Author: Peter Biocca, Senior Development Engineer, Kester, Des Plaines, Illinois.  \n",
      "                           Telephone 972.390.1197; email pbiocca@kester.com' metadata={'page': 0, 'section': 'beginning', 'source': 'Solder_Bridging_Docs\\\\4.pdf', 'start_index': 41}\n",
      "\n",
      "Doc 1:\n",
      "page_content='Lead-free SMT Soldering Defects  \n",
      "                 How to Prevent Them   \n",
      " \n",
      " \n",
      " \n",
      "  \n",
      " \n",
      "  \n",
      "Author: Peter Biocca, Senior Development Engineer, Kester, Des Plaines, Illinois.  \n",
      "                           Telephone 972.390.1197; email pbiocca@kester.com' metadata={'page': 0, 'section': 'beginning', 'source': 'Solder_Bridging_Docs\\\\4.pdf', 'start_index': 41}\n",
      "\n",
      "Doc 2:\n",
      "page_content='Lead-free SMT Soldering Defects  \n",
      "                 How to Prevent Them   \n",
      " \n",
      " \n",
      " \n",
      "  \n",
      " \n",
      "  \n",
      "Author: Peter Biocca, Senior Development Engineer, Kester, Des Plaines, Illinois.  \n",
      "                           Telephone 972.390.1197; email pbiocca@kester.com' metadata={'page': 0, 'section': 'beginning', 'source': 'Solder_Bridging_Docs\\\\4.pdf', 'start_index': 41}\n",
      "\n",
      "Doc 3:\n",
      "page_content='Often when a manufacturer transitions to lead-free soldering an increase in defects is noticed. This is often the result of a not properly implemented process. A well-defined, \n",
      "optimized and controlled lead-free process will not augment defect rates.    The main differences between a leaded and lead-free SMT process are summarized \n",
      "below: \n",
      " \n",
      " Solder physical properties, melting point, surface tension, oxidation \n",
      "potential, metallurgy and metal leaching potential  \n",
      " Higher peak temperatures \n",
      " Higher preheat temperatures \n",
      " Lead-free finishes for boards and components (preferred) \n",
      " Solder cosmetics and surface effects \n",
      " Solderability differences such as speed of wetting and spread \n",
      " Less self-centering or alignment of components \n",
      " \n",
      "The liquidus temperature of SAC alloys is 217-220 °C; this is about 34 °C above the \n",
      "melting point of eutectic 63/37. This higher melting range requires peak temperatures to' metadata={'page': 1, 'section': 'beginning', 'source': 'Solder_Bridging_Docs\\\\4.pdf', 'start_index': 742}\n"
     ]
    }
   ],
   "source": [
    "result = graph.invoke({\"question\": \"What are defects that can be associated with lead-free reflow soldering?\"})         # Answer in Page 3   of 4.pdf\n",
    "\n",
    "print(f'Answer: {result[\"answer\"]}')\n",
    "\n",
    "print(f'\\n\\nContext:-')\n",
    "print(f\"No. of docs in context: {len(result[\"context\"])}\")\n",
    "\n",
    "for i, doc in enumerate(result[\"context\"]):\n",
    "    print(f\"\\nDoc {i}:\")\n",
    "    print(doc)"
   ]
  },
  {
   "cell_type": "code",
   "execution_count": 27,
   "id": "097dfbc0",
   "metadata": {},
   "outputs": [
    {
     "name": "stdout",
     "output_type": "stream",
     "text": [
      "Answer: The provided context lists the following as typical defects associated with lead-free reflow soldering:\n",
      "\n",
      "* **Bridging:**  Solder unintentionally connecting two or more adjacent component leads or solder pads.\n",
      "* **Solder Balls:** Small spheres of solder that detach from the main solder deposit.\n",
      "* **Mid-chip Balling:**  A specific type of solder balling that occurs under a component, often near the center of the chip.\n",
      "* **Poor Wetting:** Insufficient adhesion of the solder to the component leads or solder pads, resulting in a weak connection.\n",
      "* **Voids:**  Empty spaces or pockets within the solder joint, which can weaken the joint and affect its reliability.\n",
      "* **Tomb-stoning:**  One end of a component lifts off the PCB during reflow, resembling a tombstone.\n",
      "* **De-wetting:** The solder retracts or pulls away from the surface it is supposed to bond to, leaving exposed areas.\n",
      "\n",
      "\n",
      "While the context lists these failure modes, it does *not* provide detailed explanations of *why* these failures occur.  It only mentions the need for thermally stable flux ingredients due to the higher temperatures of lead-free reflow soldering.  Therefore, a more in-depth explanation of each failure mode's root cause is not possible with the given information.\n",
      "\n",
      "\n",
      "Context:-\n",
      "No. of docs in context: 4\n",
      "\n",
      "Doc 0:\n",
      "page_content='Lead-free SMT Soldering Defects  \n",
      "                 How to Prevent Them   \n",
      " \n",
      " \n",
      " \n",
      "  \n",
      " \n",
      "  \n",
      "Author: Peter Biocca, Senior Development Engineer, Kester, Des Plaines, Illinois.  \n",
      "                           Telephone 972.390.1197; email pbiocca@kester.com' metadata={'page': 0, 'section': 'beginning', 'source': 'Solder_Bridging_Docs\\\\4.pdf', 'start_index': 41}\n",
      "\n",
      "Doc 1:\n",
      "page_content='Lead-free SMT Soldering Defects  \n",
      "                 How to Prevent Them   \n",
      " \n",
      " \n",
      " \n",
      "  \n",
      " \n",
      "  \n",
      "Author: Peter Biocca, Senior Development Engineer, Kester, Des Plaines, Illinois.  \n",
      "                           Telephone 972.390.1197; email pbiocca@kester.com' metadata={'page': 0, 'section': 'beginning', 'source': 'Solder_Bridging_Docs\\\\4.pdf', 'start_index': 41}\n",
      "\n",
      "Doc 2:\n",
      "page_content='Lead-free SMT Soldering Defects  \n",
      "                 How to Prevent Them   \n",
      " \n",
      " \n",
      " \n",
      "  \n",
      " \n",
      "  \n",
      "Author: Peter Biocca, Senior Development Engineer, Kester, Des Plaines, Illinois.  \n",
      "                           Telephone 972.390.1197; email pbiocca@kester.com' metadata={'page': 0, 'section': 'beginning', 'source': 'Solder_Bridging_Docs\\\\4.pdf', 'start_index': 41}\n",
      "\n",
      "Doc 3:\n",
      "page_content='The basic ingredients in a solder paste flux can be summarized as indicated below: \n",
      " \n",
      " Resins solid and liquid types \n",
      " Activators, organic acid and/or hydrohalides  \n",
      " Solvents and co-solvents \n",
      " Gelling agents  \n",
      " Surfactants \n",
      " Chelating agents \n",
      " \n",
      "Solder paste manufacturers have had to revisit most of these ingredients to account for \n",
      "the higher temperatures experienced in the reflow operation. Most of these ingredients \n",
      "are organic compounds and thermal stability up to 245 °C is essential to avoid issues of \n",
      "decomposition, oxidation, and polymerization of paste flux during reflow. \n",
      " \n",
      "Lead-free solder pastes designed for lead-free alloys and also alloy specific will function best and help prevent solder defects.  \n",
      "Typical defects associated with lead-free reflow soldering are: \n",
      " \n",
      " Bridging  \n",
      " Solder balls \n",
      " Mid-chip balling \n",
      " Poor wetting  \n",
      " Voids \n",
      " Tomb-stoning \n",
      " De-wetting \n",
      " Bridging, Solder balls and Mid-chip Balling' metadata={'page': 2, 'section': 'beginning', 'source': 'Solder_Bridging_Docs\\\\4.pdf', 'start_index': 0}\n"
     ]
    }
   ],
   "source": [
    "result = graph.invoke({\"question\": \"What are the potential failure modes during lead-free reflow soldering?\"})         # Answer in Page 3   of 4.pdf\n",
    "\n",
    "print(f'Answer: {result[\"answer\"]}')\n",
    "\n",
    "print(f'\\n\\nContext:-')\n",
    "print(f\"No. of docs in context: {len(result[\"context\"])}\")\n",
    "\n",
    "for i, doc in enumerate(result[\"context\"]):\n",
    "    print(f\"\\nDoc {i}:\")\n",
    "    print(doc)"
   ]
  },
  {
   "cell_type": "markdown",
   "id": "77db4125-f8e6-4624-af22-d17b353c657e",
   "metadata": {},
   "source": [
    "Listing all the steps in the graph stream"
   ]
  },
  {
   "cell_type": "code",
   "execution_count": null,
   "id": "554aabcf1494992b",
   "metadata": {
    "ExecuteTime": {
     "end_time": "2025-02-23T07:32:33.854180Z",
     "start_time": "2025-02-23T07:31:46.442079Z"
    }
   },
   "outputs": [
    {
     "name": "stdout",
     "output_type": "stream",
     "text": [
      "{'analyze_query': {'query': Search(query='Why does lead-free reflow show poor wetting?', section='beginning')}}\n",
      "\n",
      "----------------\n",
      "\n",
      "{'retrieve': {'context': [Document(id='a4a87e25-2427-428e-a15a-942bec691970', metadata={'page': 1, 'section': 'beginning', 'source': 'Solder_Bridging_Docs\\\\4.pdf', 'start_index': 742}, page_content='Often when a manufacturer transitions to lead-free soldering an increase in defects is noticed. This is often the result of a not properly implemented process. A well-defined, \\noptimized and controlled lead-free process will not augment defect rates.    The main differences between a leaded and lead-free SMT process are summarized \\nbelow: \\n \\n\\x89 Solder physical properties, melting point, surface tension, oxidation \\npotential, metallurgy and metal leaching potential  \\n\\x89 Higher peak temperatures \\n\\x89 Higher preheat temperatures \\n\\x89 Lead-free finishes for boards and components (preferred) \\n\\x89 Solder cosmetics and surface effects \\n\\x89 Solderability differences such as speed of wetting and spread \\n\\x89 Less self-centering or alignment of components \\n \\nThe liquidus temperature of SAC alloys is 217-220 °C; this is about 34 °C above the \\nmelting point of eutectic 63/37. This higher melting range requires peak temperatures to'), Document(id='a07767c8-091b-4609-ba2b-d6797c77456c', metadata={'page': 2, 'section': 'beginning', 'source': 'Solder_Bridging_Docs\\\\4.pdf', 'start_index': 0}, page_content='The basic ingredients in a solder paste flux can be summarized as indicated below: \\n \\n\\x89 Resins solid and liquid types \\n\\x89 Activators, organic acid and/or hydrohalides  \\n\\x89 Solvents and co-solvents \\n\\x89 Gelling agents  \\n\\x89 Surfactants \\n\\x89 Chelating agents \\n \\nSolder paste manufacturers have had to revisit most of these ingredients to account for \\nthe higher temperatures experienced in the reflow operation. Most of these ingredients \\nare organic compounds and thermal stability up to 245 °C is essential to avoid issues of \\ndecomposition, oxidation, and polymerization of paste flux during reflow. \\n \\nLead-free solder pastes designed for lead-free alloys and also alloy specific will function best and help prevent solder defects.  \\nTypical defects associated with lead-free reflow soldering are: \\n \\n\\x89 Bridging  \\n\\x89 Solder balls \\n\\x89 Mid-chip balling \\n\\x89 Poor wetting  \\n\\x89 Voids \\n\\x89 Tomb-stoning \\n\\x89 De-wetting \\n Bridging, Solder balls and Mid-chip Balling'), Document(id='4cd3c44b-c8eb-4ac7-ba88-d5ab97523321', metadata={'page': 0, 'section': 'beginning', 'source': 'Solder_Bridging_Docs\\\\4.pdf', 'start_index': 41}, page_content='Lead-free SMT Soldering Defects  \\n                 How to Prevent Them   \\n \\n \\n \\n  \\n \\n  \\nAuthor: Peter Biocca, Senior Development Engineer, Kester, Des Plaines, Illinois.  \\n                           Telephone 972.390.1197; email pbiocca@kester.com'), Document(id='3aad8004-0c5a-4f56-8a83-ae6c5730b36f', metadata={'page': 1, 'section': 'beginning', 'source': 'Solder_Bridging_Docs\\\\4.pdf', 'start_index': 0}, page_content='Lead-free SMT Soldering Defects – How to Prevent Them \\n \\nTin-Silver-Copper alloys are the primary choice for lead-free SMT assembly. Although \\nthere are other options available such as alloys containing bismuth or indium and other elements, tin-silver-copper solders, also known as SAC alloys are by far the most \\npopular. They are used by approximately 65% of users, as last surveyed by Soldertec in \\n2003.   \\n \\nThe lead-free SMT process differs from a 63/37 process in numerous ways. A good understanding of these differences when using SAC alloys, will enable process engineers to bring about the necessary changes to the SMT process and reduce soldering defects, increase lead-free assembly reliability and maintain production yields. \\n \\nOften when a manufacturer transitions to lead-free soldering an increase in defects is noticed. This is often the result of a not properly implemented process. A well-defined,')]}}\n",
      "\n",
      "----------------\n",
      "\n",
      "{'generate': {'answer': \"Poor wetting in lead-free reflow soldering is a common defect and can stem from several factors related to the differences between lead-free and leaded soldering processes.  The provided text highlights some key areas but doesn't explicitly detail all the reasons for poor wetting.  Here's a breakdown based on the context and general lead-free soldering knowledge:\\n\\n**1. Higher Temperatures and Flux Formulation:**\\n\\n* **Higher reflow temperatures:** Lead-free solders require higher reflow temperatures than leaded solders. This increased heat can cause the flux to decompose or oxidize prematurely, reducing its effectiveness in cleaning the surfaces to be soldered.  The text mentions the importance of thermally stable flux ingredients up to 245°C to prevent these issues. If the flux isn't formulated correctly for lead-free, it might not perform adequately at these elevated temperatures.\\n* **Insufficient Activity:** Even if thermally stable, the flux might not be active enough to remove the oxides that form on the solder, component leads, and PCB pads at the higher temperatures. This can hinder the solder's ability to properly wet the surfaces.\\n\\n**2. Solder Paste Characteristics:**\\n\\n* **Incorrect Alloy:** Using a lead-free solder paste not specifically designed for the target alloy (e.g., using a generic lead-free paste for a specific SAC alloy) can lead to compatibility issues and poor wetting. The text emphasizes the importance of using alloy-specific pastes.\\n* **Oxidation of Paste:**  Lead-free solders are more prone to oxidation than leaded solders. If the solder paste has been exposed to air for too long or stored improperly, the solder powder within the paste can oxidize, hindering wetting.\\n\\n**3. Surface Finishes:**\\n\\n* **Incompatible Finishes:** While the text mentions the preference for lead-free finishes, it doesn't elaborate on compatibility.  Certain surface finishes may not be compatible with lead-free solders, leading to poor wetting. For example, some organic solderability preservatives (OSPs) may not perform well at the higher temperatures required for lead-free reflow.\\n* **Contamination:**  Any contamination on the PCB pads or component leads, such as oils, fingerprints, or residues from previous processes, can prevent proper wetting. This is true for both leaded and lead-free processes, but the higher temperatures in lead-free can exacerbate the issue.\\n\\n**4. Reflow Profile:**\\n\\n* **Insufficient Time Above Liquidus:** The solder needs enough time above its liquidus temperature to properly wet the surfaces.  If the reflow profile isn't optimized, the solder might not have enough time in the liquid state, resulting in poor wetting.\\n* **Incorrect Temperature Profile:**  A poorly designed profile with insufficient preheat or an excessively rapid temperature ramp can also contribute to poor wetting.\\n\\n\\n**In summary,** poor wetting in lead-free reflow is often a result of the interplay between higher processing temperatures, flux performance, solder paste characteristics, surface finishes, and the reflow profile itself.  Addressing these factors through careful material selection, process optimization, and contamination control is crucial for achieving good wetting and reliable solder joints in lead-free assembly.\"}}\n",
      "\n",
      "----------------\n",
      "\n"
     ]
    }
   ],
   "source": [
    "for step in graph.stream(\n",
    "        {\"question\": \"Why does lead-free reflow show poor wetting?\"}, stream_mode=\"updates\"             # Answer in Page 5 of 4.pdf\n",
    "):\n",
    "    print(f\"{step}\\n\\n----------------\\n\")"
   ]
  },
  {
   "cell_type": "code",
   "execution_count": null,
   "id": "df009070301cdb3f",
   "metadata": {
    "ExecuteTime": {
     "end_time": "2025-02-23T07:18:24.632431Z",
     "start_time": "2025-02-23T07:18:08.669179Z"
    }
   },
   "outputs": [
    {
     "name": "stdout",
     "output_type": "stream",
     "text": [
      "|The| provided context| primarily discusses defects related to solder paste characteristics and the higher temperatures required for lead-|free soldering. While it mentions \"voids\" as a potential defect, it doesn|'t elaborate on their specific causes. Therefore, I will provide a more general overview of void formation in solder joints, drawing partially from the provided context and supplementing with| external knowledge.\n",
      "\n",
      "**Causes of Voids in Solder Joints:**\n",
      "\n",
      "Voids, essentially pockets of trapped gas, can form within solder joints during the reflow| process.  Several factors contribute to their formation:\n",
      "\n",
      "* **Flux Activity and Outgassing:**\n",
      "\n",
      "    * Flux, a crucial component of solder paste, cleans the surfaces to be joined and promotes wetting.  During reflow, the flux| volatilizes, and these gases need to escape before the solder solidifies.  Insufficient flux activity, rapid solidification, or the solder's surface tension can trap these gases, leading to voids.\n",
      "    * The context mentions the| importance of solder paste characteristics, particularly \"hot slump,\" at higher temperatures required for lead-free soldering.  While not directly related to voiding, improper hot slump can indirectly contribute by affecting the overall reflow dynamics and potentially hindering flux outgassing.\n",
      "\n",
      "* **Moisture Absorption:**\n",
      "\n",
      "    * Solder paste, components, and| even the PCB itself can absorb moisture from the environment.  This moisture vaporizes during reflow, contributing to void formation.  Proper storage and baking procedures are essential to minimize moisture-related voids.\n",
      "\n",
      "* **Solder Paste Formulation:**\n",
      "\n",
      "    * The ratio of solder powder to flux, the powder size distribution, and the| type of flux used all influence void formation.  The context highlights the importance of selecting appropriate lead-free pastes with stable gelling agents, which can indirectly impact voiding by affecting reflow behavior.\n",
      "\n",
      "* **Reflow Profile:**\n",
      "\n",
      "    * The temperature profile during reflow, including preheat, soak, and| peak temperatures, significantly affects void formation.  Insufficient preheating can hinder flux activation and outgassing, while a too-rapid temperature ramp can trap volatiles. The context emphasizes the higher temperatures required for lead-free soldering, which necessitates careful optimization of the reflow profile.\n",
      "\n",
      "* **Component and PCB Design:**\n",
      "\n",
      "    |* Component design, particularly the presence of cavities or complex geometries, can trap gases.  Similarly, PCB design features like via placement and surface finishes can influence void formation.\n",
      "\n",
      "* **Solder Material Properties:**\n",
      "\n",
      "    * The solder alloy itself influences void formation.  Different alloys have varying surface tensions and wetting characteristics, which| affect the escape of volatiles. The context focuses on the transition to lead-free alloys (SAC), which have different properties than traditional tin-lead solders and can require adjustments to the process to minimize voids.\n",
      "\n",
      "\n",
      "While the provided text doesn't directly address these specific causes, it does highlight the changes in reflow| profiles and material properties associated with lead-free soldering, which are relevant factors in void formation.  Understanding these broader causes is crucial for mitigating voiding issues in any soldering process, including lead-free.|"
     ]
    }
   ],
   "source": [
    "for message, metadata in graph.stream(\n",
    "        {\"question\": \"What are some causes of voids in joints?\"}, stream_mode=\"messages\"\n",
    "):\n",
    "    print(message.content, end=\"|\")"
   ]
  }
 ],
 "metadata": {
  "kernelspec": {
   "display_name": "Python 3 (ipykernel)",
   "language": "python",
   "name": "python3"
  },
  "language_info": {
   "codemirror_mode": {
    "name": "ipython",
    "version": 3
   },
   "file_extension": ".py",
   "mimetype": "text/x-python",
   "name": "python",
   "nbconvert_exporter": "python",
   "pygments_lexer": "ipython3",
   "version": "3.12.3"
  }
 },
 "nbformat": 4,
 "nbformat_minor": 5
}
